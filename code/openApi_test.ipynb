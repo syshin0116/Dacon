{
 "cells": [
  {
   "cell_type": "code",
   "execution_count": 3,
   "id": "a32d2434-6cd1-4916-8c2e-bddcd4679485",
   "metadata": {},
   "outputs": [],
   "source": [
    "# Open API 활용 데이터"
   ]
  },
  {
   "cell_type": "code",
   "execution_count": 4,
   "id": "c71afa9f-9c71-4297-bd8f-71c2bec1c78f",
   "metadata": {},
   "outputs": [],
   "source": [
    "import pandas as pd\n",
    "from pandas import Series, DataFrame\n",
    "import numpy as np\n",
    "import matplotlib\n",
    "matplotlib.rcParams['font.family'].insert(0, 'Malgun Gothic')\n",
    "%matplotlib inline"
   ]
  },
  {
   "cell_type": "code",
   "execution_count": null,
   "id": "5381331e-3554-4b04-9669-bb165c9ca951",
   "metadata": {},
   "outputs": [],
   "source": []
  }
 ],
 "metadata": {
  "kernelspec": {
   "display_name": "Python 3.9 (tensorflow)",
   "language": "python",
   "name": "tensorflow"
  },
  "language_info": {
   "codemirror_mode": {
    "name": "ipython",
    "version": 3
   },
   "file_extension": ".py",
   "mimetype": "text/x-python",
   "name": "python",
   "nbconvert_exporter": "python",
   "pygments_lexer": "ipython3",
   "version": "3.9.12"
  }
 },
 "nbformat": 4,
 "nbformat_minor": 5
}
