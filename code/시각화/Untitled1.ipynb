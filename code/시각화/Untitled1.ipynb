{
 "cells": [
  {
   "cell_type": "code",
   "execution_count": 1,
   "id": "3ec54252-e582-4a2a-94cd-268fc6304f72",
   "metadata": {},
   "outputs": [],
   "source": [
    "import math"
   ]
  },
  {
   "cell_type": "code",
   "execution_count": 7,
   "id": "ac2770e6-7cc8-4506-91e3-90e5de6a793b",
   "metadata": {},
   "outputs": [],
   "source": [
    "def rectangle_info():\n",
    "    side1 = int(input(\"side1:\"))\n",
    "    side2 = int(input(\"side2:\"))\n",
    "    side3 = int(input(\"side3:\"))\n",
    "    side4 = int(input(\"side4:\"))\n",
    "    print(\"Rectangle Info:\")\n",
    "    if side1 == side2 == side3 == side4:\n",
    "        print(\"\\tShape: Square\")\n",
    "\n",
    "    elif (side1==side2 and side4==side3) or (side1==side3 and side2==side4) or (side1==side4 and side2==side3):\n",
    "        print(\"\\tShape: Rectangle\")\n",
    "\n",
    "    else: \n",
    "        print(\"\\tShape: Not a Rectangle\")\n",
    "    print()"
   ]
  },
  {
   "cell_type": "code",
   "execution_count": 8,
   "id": "e6144b03-36c2-4160-a619-bcbb86da48e7",
   "metadata": {},
   "outputs": [
    {
     "name": "stdin",
     "output_type": "stream",
     "text": [
      "how many rectangles? 3\n"
     ]
    }
   ],
   "source": [
    "n = int(input(\"how many rectangles?\"))"
   ]
  },
  {
   "cell_type": "code",
   "execution_count": 9,
   "id": "1f3af448-edce-47e6-b8d4-e8f80fbb8423",
   "metadata": {},
   "outputs": [
    {
     "name": "stdin",
     "output_type": "stream",
     "text": [
      "side1: 1\n",
      "side2: 1\n",
      "side3: 1\n",
      "side4: 1\n"
     ]
    },
    {
     "name": "stdout",
     "output_type": "stream",
     "text": [
      "Rectangle Info:\n",
      "\tShape: Square\n",
      "\n"
     ]
    },
    {
     "name": "stdin",
     "output_type": "stream",
     "text": [
      "side1: 1\n",
      "side2: 2\n",
      "side3: 1\n",
      "side4: 2\n"
     ]
    },
    {
     "name": "stdout",
     "output_type": "stream",
     "text": [
      "Rectangle Info:\n",
      "\tShape: Rectangle\n",
      "\n"
     ]
    },
    {
     "name": "stdin",
     "output_type": "stream",
     "text": [
      "side1: 1\n",
      "side2: 1\n",
      "side3: 2\n",
      "side4: 2\n"
     ]
    },
    {
     "name": "stdout",
     "output_type": "stream",
     "text": [
      "Rectangle Info:\n",
      "\tShape: Rectangle\n",
      "\n"
     ]
    }
   ],
   "source": [
    "for i in range(n):\n",
    "    rectangle_info()"
   ]
  },
  {
   "cell_type": "code",
   "execution_count": null,
   "id": "65f005a4-ab4e-4133-9702-1e066f596379",
   "metadata": {},
   "outputs": [],
   "source": []
  }
 ],
 "metadata": {
  "kernelspec": {
   "display_name": "Python 3 (ipykernel)",
   "language": "python",
   "name": "python3"
  },
  "language_info": {
   "codemirror_mode": {
    "name": "ipython",
    "version": 3
   },
   "file_extension": ".py",
   "mimetype": "text/x-python",
   "name": "python",
   "nbconvert_exporter": "python",
   "pygments_lexer": "ipython3",
   "version": "3.9.12"
  }
 },
 "nbformat": 4,
 "nbformat_minor": 5
}
