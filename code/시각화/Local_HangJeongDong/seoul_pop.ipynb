{
 "cells": [
  {
   "cell_type": "code",
   "execution_count": 5,
   "metadata": {},
   "outputs": [
    {
     "ename": "FileNotFoundError",
     "evalue": "[Errno 2] No such file or directory: './Local_HangJeongDong'",
     "output_type": "error",
     "traceback": [
      "\u001b[0;31m---------------------------------------------------------------------------\u001b[0m",
      "\u001b[0;31mFileNotFoundError\u001b[0m                         Traceback (most recent call last)",
      "Input \u001b[0;32mIn [5]\u001b[0m, in \u001b[0;36m<cell line: 5>\u001b[0;34m()\u001b[0m\n\u001b[1;32m      3\u001b[0m \u001b[38;5;28;01mimport\u001b[39;00m \u001b[38;5;21;01mplotly\u001b[39;00m\u001b[38;5;21;01m.\u001b[39;00m\u001b[38;5;21;01mexpress\u001b[39;00m \u001b[38;5;28;01mas\u001b[39;00m \u001b[38;5;21;01mpx\u001b[39;00m\n\u001b[1;32m      4\u001b[0m \u001b[38;5;66;03m# !git clone https://github.com/raqoon886/Local_HangJeongDong.git\u001b[39;00m\n\u001b[0;32m----> 5\u001b[0m \u001b[43mos\u001b[49m\u001b[38;5;241;43m.\u001b[39;49m\u001b[43mchdir\u001b[49m\u001b[43m(\u001b[49m\u001b[38;5;124;43m'\u001b[39;49m\u001b[38;5;124;43m./Local_HangJeongDong\u001b[39;49m\u001b[38;5;124;43m'\u001b[39;49m\u001b[43m)\u001b[49m\n\u001b[1;32m      7\u001b[0m \u001b[38;5;28;01mwith\u001b[39;00m \u001b[38;5;28mopen\u001b[39m(\u001b[38;5;124m'\u001b[39m\u001b[38;5;124m./hangjeongdong_서울특별시.geojson\u001b[39m\u001b[38;5;124m'\u001b[39m, \u001b[38;5;124m'\u001b[39m\u001b[38;5;124mr\u001b[39m\u001b[38;5;124m'\u001b[39m) \u001b[38;5;28;01mas\u001b[39;00m f:\n\u001b[1;32m      8\u001b[0m     seoul_geo \u001b[38;5;241m=\u001b[39m json\u001b[38;5;241m.\u001b[39mload(f)\n",
      "\u001b[0;31mFileNotFoundError\u001b[0m: [Errno 2] No such file or directory: './Local_HangJeongDong'"
     ]
    }
   ],
   "source": [
    "import os, json\n",
    "import pandas as pd\n",
    "import plotly.express as px\n",
    "# !git clone https://github.com/raqoon886/Local_HangJeongDong.git\n",
    "os.chdir('./Local_HangJeongDong')\n",
    "\n",
    "with open('./hangjeongdong_서울특별시.geojson', 'r') as f:\n",
    "    seoul_geo = json.load(f)\n",
    "    \n",
    "seoul_info = pd.read_csv('./sample.txt', delimiter='\\t')\n",
    "seoul_info = seoul_info.iloc[3:,:]\n",
    "seoul_info = seoul_info[seoul_info['동']!='소계']\n",
    "seoul_info['full_name'] = '서울특별시'+' '+seoul_info['자치구']+' '+seoul_info['동']\n",
    "seoul_info['full_name'] = seoul_info['full_name'].apply(lambda x: x.replace('.','·'))\n",
    "seoul_info['인구'] = seoul_info['인구'].apply(lambda x: int(''.join(x.split(','))))\n",
    "\n",
    "fig = px.choropleth_mapbox(seoul_info,\n",
    "                           geojson=seoul_geo,\n",
    "                           locations='full_name',\n",
    "                           color='인구',\n",
    "                           color_continuous_scale='viridis', featureidkey = 'properties.adm_nm',\n",
    "                           mapbox_style='carto-positron',\n",
    "                           zoom=9.5,\n",
    "                           center = {\"lat\": 37.563383, \"lon\": 126.996039},\n",
    "                           opacity=0.5,\n",
    "                          )\n",
    "\n",
    "fig"
   ]
  },
  {
   "cell_type": "code",
   "execution_count": null,
   "metadata": {},
   "outputs": [],
   "source": []
  }
 ],
 "metadata": {
  "kernelspec": {
   "display_name": "Python 3.9 (tensorflow)",
   "language": "python",
   "name": "tensorflow"
  },
  "language_info": {
   "codemirror_mode": {
    "name": "ipython",
    "version": 3
   },
   "file_extension": ".py",
   "mimetype": "text/x-python",
   "name": "python",
   "nbconvert_exporter": "python",
   "pygments_lexer": "ipython3",
   "version": "3.9.12"
  },
  "toc": {
   "base_numbering": 1,
   "nav_menu": {},
   "number_sections": true,
   "sideBar": true,
   "skip_h1_title": false,
   "title_cell": "Table of Contents",
   "title_sidebar": "Contents",
   "toc_cell": false,
   "toc_position": {},
   "toc_section_display": true,
   "toc_window_display": false
  }
 },
 "nbformat": 4,
 "nbformat_minor": 4
}
