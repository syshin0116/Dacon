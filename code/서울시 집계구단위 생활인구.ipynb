{
 "cells": [
  {
   "cell_type": "markdown",
   "id": "ed1997fd-c560-4f88-bd53-75e2c226ba28",
   "metadata": {},
   "source": [
    "# 서울시 생활인구\n",
    "## 서울 생활인구 현황 (2022.09.28. 기준)\n",
    "### url: https://data.seoul.go.kr/dataVisual/seoul/seoulLivingPopulation.do\n",
    "\n",
    "1. 집계구 단위 서울 생활인구(내국인)\n",
    "    - url: https://data.seoul.go.kr/dataList/OA-14979/F/1/datasetView.do\n",
    "    - 설명: 서울시가 보유한 공공데이터와 통신데이터로 측정한 특정시점에 서울의 특정 지역에 존재하는 인구 중 내국인\n",
    "\n",
    "<!-- <br> -->\n",
    "\n",
    "\n",
    "2. 집계구 단위 서울 생활인구(장기체류 외국인)\n",
    "    - url: https://data.seoul.go.kr/dataList/OA-14978/F/1/datasetView.do\n",
    "    - 설명:서울시가 보유한 공공데이터와 통신데이터로 측정한 특정시점에 서울의 특정 지역에 존재하는 인구 중 장기체류 외국인\n",
    "\n",
    "<!-- <br> -->\n",
    "\n",
    "\n",
    "3. 집계구 단위 서울 생활인구(단기체류 외국인)\n",
    "    - url: https://data.seoul.go.kr/dataList/OA-14980/F/1/datasetView.do\n",
    "    - 설명:서울시가 보유한 공공데이터와 통신데이터로 측정한 특정시점에 서울의 특정 지역에 존재하는 인구 중 단기체류 외국인\n",
    "\n",
    "<!-- <br> -->\n",
    "\n",
    "\n",
    "\n",
    "※ 개인정보 비 식별화를 위하여 ‘3명’ 이하인 경우 “ * ” 처리\n"
   ]
  },
  {
   "cell_type": "code",
   "execution_count": 1,
   "id": "82b072bd-5353-4b29-8326-8454d6486ffa",
   "metadata": {},
   "outputs": [],
   "source": [
    "import os\n",
    "import glob\n",
    "import pandas as pd\n",
    "import numpy as np"
   ]
  },
  {
   "cell_type": "code",
   "execution_count": 2,
   "id": "cf7f48d0-9558-484a-8ae2-20e94eb33dba",
   "metadata": {},
   "outputs": [],
   "source": [
    "from tqdm.auto import tqdm, trange\n",
    "from time import sleep"
   ]
  },
  {
   "cell_type": "markdown",
   "id": "c5539de1-6569-4f6b-b8ad-7fe47bc2da34",
   "metadata": {},
   "source": [
    "## 1. 집계구 단위 서울 생활인구(내국인)\n",
    "    - a)2022년 01월~08월\n",
    "    - b)2019년, 2020년, 2021년\n",
    "    - 2019년 10월 15-27일 데이터 없음\n",
    "## 2. 집계구 단위 서울 생활인구(장기체류 외국인)\n",
    "    - a)2022년 01월~08월\n",
    "    - b)2019년, 2020년, 2021년\n",
    "## 3. 집계구 단위 서울 생활인구(단기체류 외국인)\n",
    "    - a)2022년 01월~08월\n",
    "    - b)2019년, 2020년, 2021년"
   ]
  },
  {
   "cell_type": "code",
   "execution_count": 3,
   "id": "1f192c53-2162-4f14-bade-e4f2e157c39c",
   "metadata": {},
   "outputs": [
    {
     "data": {
      "application/vnd.jupyter.widget-view+json": {
       "model_id": "102019e256b2490ca6bdfa001078f45a",
       "version_major": 2,
       "version_minor": 0
      },
      "text/plain": [
       "  0%|          | 0/352 [00:00<?, ?it/s]"
      ]
     },
     "metadata": {},
     "output_type": "display_data"
    },
    {
     "data": {
      "application/vnd.jupyter.widget-view+json": {
       "model_id": "9640d8a415d8459db739fcf0642e6105",
       "version_major": 2,
       "version_minor": 0
      },
      "text/plain": [
       "  0%|          | 0/366 [00:00<?, ?it/s]"
      ]
     },
     "metadata": {},
     "output_type": "display_data"
    },
    {
     "data": {
      "application/vnd.jupyter.widget-view+json": {
       "model_id": "950d610879d040aea8bc0c56fd6816ea",
       "version_major": 2,
       "version_minor": 0
      },
      "text/plain": [
       "  0%|          | 0/365 [00:00<?, ?it/s]"
      ]
     },
     "metadata": {},
     "output_type": "display_data"
    },
    {
     "data": {
      "application/vnd.jupyter.widget-view+json": {
       "model_id": "1c0dfa023e2d446c821f87e6a151d936",
       "version_major": 2,
       "version_minor": 0
      },
      "text/plain": [
       "  0%|          | 0/1 [00:00<?, ?it/s]"
      ]
     },
     "metadata": {},
     "output_type": "display_data"
    },
    {
     "data": {
      "application/vnd.jupyter.widget-view+json": {
       "model_id": "c123c78981f54d3b9de9c55cdbfd8fef",
       "version_major": 2,
       "version_minor": 0
      },
      "text/plain": [
       "  0%|          | 0/1 [00:00<?, ?it/s]"
      ]
     },
     "metadata": {},
     "output_type": "display_data"
    },
    {
     "ename": "NameError",
     "evalue": "name 'sort' is not defined",
     "output_type": "error",
     "traceback": [
      "\u001b[0;31m---------------------------------------------------------------------------\u001b[0m",
      "\u001b[0;31mNameError\u001b[0m                                 Traceback (most recent call last)",
      "Input \u001b[0;32mIn [3]\u001b[0m, in \u001b[0;36m<cell line: 38>\u001b[0;34m()\u001b[0m\n\u001b[1;32m     35\u001b[0m         pbar\u001b[38;5;241m.\u001b[39mset_description(file)\n\u001b[1;32m     36\u001b[0m         temp_foreinger_list\u001b[38;5;241m.\u001b[39mappend(file)\n\u001b[0;32m---> 38\u001b[0m \u001b[43msort\u001b[49m(local_people_2019_list)\n\u001b[1;32m     39\u001b[0m sort(local_people_2020_list)\n\u001b[1;32m     40\u001b[0m sort(local_people_2021_list)\n",
      "\u001b[0;31mNameError\u001b[0m: name 'sort' is not defined"
     ]
    }
   ],
   "source": [
    "# 폴더 안 파일명 리스트 가져오기\n",
    "local_people_2019_list = []\n",
    "local_people_2020_list = []\n",
    "local_people_2021_list = []\n",
    "\n",
    "long_foreigner_list = []\n",
    "temp_foreinger_list= []\n",
    "pbar = tqdm(os.listdir(r\"./data/집계동 단위 서울 생활인구/local_people/2019\"))\n",
    "for file in pbar:\n",
    "    if file.endswith(\".csv\"):\n",
    "        pbar.set_description(file)\n",
    "        local_people_2019_list.append(file)\n",
    "        \n",
    "pbar = tqdm(os.listdir(r\"./data/집계동 단위 서울 생활인구/local_people/2020\"))\n",
    "for file in pbar:\n",
    "    if file.endswith(\".csv\"):\n",
    "        pbar.set_description(file)\n",
    "        local_people_2020_list.append(file)\n",
    "        \n",
    "pbar = tqdm(os.listdir(r\"./data/집계동 단위 서울 생활인구/local_people/2021\"))\n",
    "for file in pbar:\n",
    "    if file.endswith(\".csv\"):\n",
    "        pbar.set_description(file)\n",
    "        local_people_2021_list.append(file)\n",
    "\n",
    "pbar = tqdm(os.listdir(r\"./data/집계동 단위 서울 생활인구/long_foreigner/\"))\n",
    "for file in pbar:\n",
    "    if file.endswith(\".csv\"):\n",
    "        pbar.set_description(file)\n",
    "        long_foreigner_list.append(file)\n",
    " \n",
    "pbar = tqdm(os.listdir(r\"./data/집계동 단위 서울 생활인구/temp_foreigner/\"))\n",
    "for file in pbar:\n",
    "    if file.endswith(\".csv\"):\n",
    "        pbar.set_description(file)\n",
    "        temp_foreinger_list.append(file)\n",
    "\n",
    "local_people_2019_list\n",
    "sort(local_people_2020_list)\n",
    "sort(local_people_2021_list)\n",
    "sort(long_foreigner_list)\n",
    "sort(temp_foreinger_list)\n",
    "\n",
    "print(\"local_people_2019_list >>\", len(local_people_2019_list))\n",
    "print(\"local_people_2020_list >>\", len(local_people_2020_list))\n",
    "print(\"local_people_2021_list >>\", len(local_people_2021_list))\n",
    "\n",
    "print(\"long_foreigner_list >>\", long_foreigner_list)\n",
    "print(\"temp_foreinger_list >>\", temp_foreinger_list)"
   ]
  },
  {
   "cell_type": "code",
   "execution_count": null,
   "id": "fbf90dfd-8eac-4f81-9a51-f5d5ec81147c",
   "metadata": {},
   "outputs": [],
   "source": [
    "def data_process(file_list, path):\n",
    "    df_mean_per_day_list = []\n",
    "    problem_list = []\n",
    "    pbar = tqdm(file_list)\n",
    "    for file in pbar:\n",
    "        pbar.set_description(file) # pbar description에 작업중인 파일명 업데이트\n",
    "        try:df_temp = pd.read_csv(path + file, encoding=\"utf-8\", na_values=\"*\")\n",
    "        except: \n",
    "            # df_temp = pd.read_csv(path + file, encoding=\"euc-kr\", na_values=\"*\")\n",
    "            print(\"encoding문제 파일 >>\", file)\n",
    "            problem_list.append(file)\n",
    "            continue\n",
    "        \n",
    "        #결측값 0으로 대체\n",
    "        df_temp.fillna(0, inplace=True)         \n",
    "        df_temp = create_dates(df_temp)\n",
    "        df_mean_per_day = combine_ages(df_temp)\n",
    "        df_mean_per_day_list.append(df_mean_per_day)\n",
    "    df_concat = pd.concat(df_mean_list)\n",
    "    return df_concat"
   ]
  },
  {
   "cell_type": "code",
   "execution_count": null,
   "id": "68a0dbf9-0d44-4a63-9886-27db0028950a",
   "metadata": {},
   "outputs": [],
   "source": [
    "# 기준일ID 컬럼을 date형식으로 변환\n",
    "# 년, 월 컬럼 생성\n",
    "def create_dates(df_temp):\n",
    "    df_temp.insert(0, '날짜', pd.to_datetime(df_temp['기준일ID'], format='%Y%m%d'))\n",
    "    df_temp.insert(1, '년', df_temp['날짜'].dt.year)\n",
    "    df_temp.insert(2, '월', df_temp['날짜'].dt.month)\n",
    "\n",
    "    # 주말 여부 컬럼 생성\n",
    "    df_temp.insert(3, \"주말\", df_temp['날짜'].dt.dayofweek > 4)\n",
    "\n",
    "    # 기준일ID컬럼 drop\n",
    "    df_temp.drop(columns=['기준일ID', '시간대구분'], inplace=True)\n",
    "    return df_temp"
   ]
  },
  {
   "cell_type": "code",
   "execution_count": null,
   "id": "b11ae4d0-bd18-4f52-93a2-d6d8d026254a",
   "metadata": {},
   "outputs": [],
   "source": [
    "def combine_ages(df_temp):\n",
    "    cols = [\n",
    "    '남자0세부터9세생활인구수', '여자0세부터9세생활인구수', \n",
    "    '남자10세부터14세생활인구수', '남자15세부터19세생활인구수', '여자10세부터14세생활인구수', '여자15세부터19세생활인구수', \n",
    "    '남자20세부터24세생활인구수', '남자25세부터29세생활인구수', '여자20세부터24세생활인구수', '여자25세부터29세생활인구수',\n",
    "    '남자30세부터34세생활인구수', '남자35세부터39세생활인구수', '여자30세부터34세생활인구수', '여자35세부터39세생활인구수', \n",
    "    '남자40세부터44세생활인구수', '남자45세부터49세생활인구수', '여자40세부터44세생활인구수', '여자45세부터49세생활인구수', \n",
    "    '남자50세부터54세생활인구수', '남자55세부터59세생활인구수', '여자50세부터54세생활인구수', '여자55세부터59세생활인구수', \n",
    "    '남자60세부터64세생활인구수', '남자65세부터69세생활인구수', '여자60세부터64세생활인구수', '여자65세부터69세생활인구수', \n",
    "    '남자70세이상생활인구수', '여자70세이상생활인구수'\n",
    "    ]\n",
    "    df_temp['10세 이하'] = df_temp.남자0세부터9세생활인구수 + df_temp.여자0세부터9세생활인구수\n",
    "    df_temp['10대'] = df_temp.남자10세부터14세생활인구수 + df_temp.남자15세부터19세생활인구수 + df_temp.여자10세부터14세생활인구수 + df_temp.여자15세부터19세생활인구수\n",
    "    df_temp['20대'] = df_temp.남자20세부터24세생활인구수 + df_temp.남자25세부터29세생활인구수 + df_temp.여자20세부터24세생활인구수 + df_temp.여자25세부터29세생활인구수\n",
    "    df_temp['30대'] = df_temp.남자30세부터34세생활인구수 + df_temp.남자35세부터39세생활인구수 + df_temp.여자30세부터34세생활인구수 + df_temp.여자35세부터39세생활인구수\n",
    "    df_temp['40대'] = df_temp.남자40세부터44세생활인구수 + df_temp.남자45세부터49세생활인구수 + df_temp.여자40세부터44세생활인구수 + df_temp.여자45세부터49세생활인구수\n",
    "    df_temp['50대'] = df_temp.남자50세부터54세생활인구수 + df_temp.남자55세부터59세생활인구수 + df_temp.여자50세부터54세생활인구수 + df_temp.여자55세부터59세생활인구수\n",
    "    df_temp['60대'] = df_temp.남자60세부터64세생활인구수 + df_temp.남자65세부터69세생활인구수 + df_temp.여자60세부터64세생활인구수 + df_temp.여자65세부터69세생활인구수\n",
    "    df_temp['70세 이상'] = df_temp.남자70세이상생활인구수 + df_temp.여자70세이상생활인구수\n",
    "    df_temp.drop(columns=cols, inplace=True)\n",
    "    df_mean_per_day = df_temp.groupby(['날짜', '년', '월', '주말', '행정동코드', '집계구코드']).mean()\n",
    "    return df_mean_per_day"
   ]
  },
  {
   "cell_type": "code",
   "execution_count": null,
   "id": "b084a56c-5309-4629-b9c8-2475fcf6b136",
   "metadata": {},
   "outputs": [],
   "source": []
  },
  {
   "cell_type": "code",
   "execution_count": null,
   "id": "eca73dc9-bde7-4527-9318-c389f70f361f",
   "metadata": {},
   "outputs": [],
   "source": []
  },
  {
   "cell_type": "code",
   "execution_count": null,
   "id": "bb553856-006a-4edc-a618-604300c14ddd",
   "metadata": {},
   "outputs": [],
   "source": []
  },
  {
   "cell_type": "code",
   "execution_count": null,
   "id": "60b992d4-5aa1-4e8b-a2e6-6882b525e357",
   "metadata": {},
   "outputs": [],
   "source": [
    "# #define how to aggregate various fields\n",
    "# agg_functions = {'년':'first', '월':'first', '주말':'first', '행정동코드': 'first', '집계구코드':'first', '10세 이하': 'sum', '10대': 'sum', '20대': 'sum', '30대': 'sum', '40대': 'sum', '50대': 'sum', '60대': 'sum', '70세 이상': 'sum', '총생활인구수': 'sum'}\n",
    "\n",
    "# #create new DataFrame by combining rows with same id values\n",
    "# df_new = df_temp.groupby(df_temp['날짜']).aggregate(agg_functions)\n",
    "# df_new"
   ]
  },
  {
   "cell_type": "code",
   "execution_count": null,
   "id": "3fd170c0-9227-4fc8-8677-3785dffd26d9",
   "metadata": {},
   "outputs": [],
   "source": [
    "local_people_2019_df = data_process(local_people_2019_list, \"./data/집계동 단위 서울 생활인구/local_people/2019/\")"
   ]
  },
  {
   "cell_type": "code",
   "execution_count": null,
   "id": "28743873-6b2d-4f98-ae50-7be3c8427a95",
   "metadata": {},
   "outputs": [],
   "source": []
  },
  {
   "cell_type": "code",
   "execution_count": null,
   "id": "4e110472-bb92-4a5b-a10f-f9cf5a4ab248",
   "metadata": {},
   "outputs": [],
   "source": []
  },
  {
   "cell_type": "code",
   "execution_count": null,
   "id": "1ee13964-f00b-4801-b6b6-c5a5877ca62a",
   "metadata": {},
   "outputs": [],
   "source": [
    "# local_people_2019_df = concat_files(local_people_2019_list, \"./data/집계동 단위 서울 생활인구/local_people/2019/\")\n",
    "# local_people_2020_df = concat_files(local_people_2020_list, \"./data/집계동 단위 서울 생활인구/local_people/2020/\")\n",
    "# local_people_2021_df = concat_files(local_people_2021_list, \"./data/집계동 단위 서울 생활인구/local_people/2021/\")\n",
    "\n",
    "\n",
    "# long_foreigner_df = concat_files(long_foreigner_list, \"./data/집계동 단위 서울 생활인구/long_foreigner/\")\n",
    "# temp_foreinger_df = concat_files(temp_foreinger_list, \"./data/집계동 단위 서울 생활인구/temp_foreigner/\")\n",
    "# print(\"local_people_df.shape >>\", local_people_df.shape)\n",
    "# print(\"long_foreigner_df.shape >>\", long_foreigner_df.shape)\n",
    "# print(\"temp_foreinger_df.shape >>\", temp_foreinger_df.shape)"
   ]
  },
  {
   "cell_type": "code",
   "execution_count": null,
   "id": "c5cb7013-e88b-4ef3-8ed8-4535d4f6fa49",
   "metadata": {},
   "outputs": [],
   "source": [
    "# # 결측값 0으로 대체\n",
    "# local_people_df.fillna(0, inplace=True)\n",
    "# local_people_df.info()"
   ]
  },
  {
   "cell_type": "code",
   "execution_count": null,
   "id": "5c4f9ee8-2035-4263-b7e2-6b928d47ebfc",
   "metadata": {},
   "outputs": [],
   "source": [
    "# for col in tqdm(cols):\n",
    "#     if col"
   ]
  },
  {
   "cell_type": "code",
   "execution_count": null,
   "id": "c77a7224-76f1-48cf-95e5-77b4d3bf2c3c",
   "metadata": {},
   "outputs": [],
   "source": [
    "# local_people_df['10대 남성'] = local_people_df.남자10세부터14세생활인구수 + local_people_df.남자15세부터19세생활인구수\n",
    "# local_people_df['20대 남성'] = "
   ]
  }
 ],
 "metadata": {
  "kernelspec": {
   "display_name": "Python 3.9 (tensorflow)",
   "language": "python",
   "name": "tensorflow"
  },
  "language_info": {
   "codemirror_mode": {
    "name": "ipython",
    "version": 3
   },
   "file_extension": ".py",
   "mimetype": "text/x-python",
   "name": "python",
   "nbconvert_exporter": "python",
   "pygments_lexer": "ipython3",
   "version": "3.9.12"
  }
 },
 "nbformat": 4,
 "nbformat_minor": 5
}
