{
 "cells": [
  {
   "cell_type": "markdown",
   "id": "ed1997fd-c560-4f88-bd53-75e2c226ba28",
   "metadata": {},
   "source": [
    "# 서울시 생활인구\n",
    "## 서울 생활인구 현황 (2022.09.28. 기준)\n",
    "### url: https://data.seoul.go.kr/dataVisual/seoul/seoulLivingPopulation.do\n",
    "\n",
    "1. 집계구 단위 서울 생활인구(내국인)\n",
    "    - url: https://data.seoul.go.kr/dataList/OA-14979/F/1/datasetView.do\n",
    "    - 설명: 서울시가 보유한 공공데이터와 통신데이터로 측정한 특정시점에 서울의 특정 지역에 존재하는 인구 중 내국인\n",
    "\n",
    "<!-- <br> -->\n",
    "\n",
    "\n",
    "2. 집계구 단위 서울 생활인구(장기체류 외국인)\n",
    "    - url: https://data.seoul.go.kr/dataList/OA-14978/F/1/datasetView.do\n",
    "    - 설명:서울시가 보유한 공공데이터와 통신데이터로 측정한 특정시점에 서울의 특정 지역에 존재하는 인구 중 장기체류 외국인\n",
    "\n",
    "<!-- <br> -->\n",
    "\n",
    "\n",
    "3. 집계구 단위 서울 생활인구(단기체류 외국인)\n",
    "    - url: https://data.seoul.go.kr/dataList/OA-14980/F/1/datasetView.do\n",
    "    - 설명:서울시가 보유한 공공데이터와 통신데이터로 측정한 특정시점에 서울의 특정 지역에 존재하는 인구 중 단기체류 외국인\n",
    "\n",
    "<!-- <br> -->\n",
    "\n",
    "\n",
    "\n",
    "※ 개인정보 비 식별화를 위하여 ‘3명’ 이하인 경우 “ * ” 처리\n"
   ]
  },
  {
   "cell_type": "code",
   "execution_count": 26,
   "id": "82b072bd-5353-4b29-8326-8454d6486ffa",
   "metadata": {},
   "outputs": [],
   "source": [
    "import os\n",
    "import glob\n",
    "import pandas as pd\n",
    "import tarfile\n",
    "import urllib.request\n",
    "import logging\n",
    "logger = logging.getLogger('my_logger')"
   ]
  },
  {
   "cell_type": "code",
   "execution_count": 27,
   "id": "cf7f48d0-9558-484a-8ae2-20e94eb33dba",
   "metadata": {},
   "outputs": [],
   "source": [
    "from tqdm.auto import tqdm, trange\n",
    "from time import sleep"
   ]
  },
  {
   "cell_type": "markdown",
   "id": "c5539de1-6569-4f6b-b8ad-7fe47bc2da34",
   "metadata": {},
   "source": [
    "## 1. 집계구 단위 서울 생활인구(내국인)\n",
    "    - a)2022년 01월~08월\n",
    "    - b)2019년, 2020년, 2021년\n",
    "## 2. 집계구 단위 서울 생활인구(장기체류 외국인)\n",
    "    - a)2022년 01월~08월\n",
    "    - b)2019년, 2020년, 2021년\n",
    "## 3. 집계구 단위 서울 생활인구(단기체류 외국인)\n",
    "    - a)2022년 01월~08월\n",
    "    - b)2019년, 2020년, 2021년"
   ]
  },
  {
   "cell_type": "code",
   "execution_count": 28,
   "id": "1f192c53-2162-4f14-bade-e4f2e157c39c",
   "metadata": {},
   "outputs": [
    {
     "name": "stdout",
     "output_type": "stream",
     "text": [
      "local_people_list>> ['LOCAL_PEOPLE_DONG_202208.csv']\n",
      "long_foreigner_list>> ['LONG_FOREIGNER_20220924.csv']\n",
      "temp_foreinger_list>> ['TEMP_FOREIGNER_20220924.csv']\n"
     ]
    }
   ],
   "source": [
    "# 폴더 안 파일명 리스트 가져오기\n",
    "local_people_list = []\n",
    "long_foreigner_list = []\n",
    "temp_foreinger_list= []\n",
    "\n",
    "for file in os.listdir(r\"./data/집계동 단위 서울 생활인구/local_people/\"):\n",
    "    if file.endswith(\".csv\"):\n",
    "        local_people_list.append(file)\n",
    "        \n",
    "for file in os.listdir(r\"./data/집계동 단위 서울 생활인구/long_foreigner/\"):\n",
    "    if file.endswith(\".csv\"):\n",
    "        long_foreigner_list.append(file)\n",
    "        \n",
    "for file in os.listdir(r\"./data/집계동 단위 서울 생활인구/temp_foreigner/\"):\n",
    "    if file.endswith(\".csv\"):\n",
    "        temp_foreinger_list.append(file)\n",
    "\n",
    "dir_list = [local_people_list, long_foreigner_list, temp_foreinger_list]\n",
    "print(\"local_people_list>>\", local_people_list)\n",
    "print(\"long_foreigner_list>>\", long_foreigner_list)\n",
    "print(\"temp_foreinger_list>>\", temp_foreinger_list)"
   ]
  },
  {
   "cell_type": "code",
   "execution_count": 50,
   "id": "4e110472-bb92-4a5b-a10f-f9cf5a4ab248",
   "metadata": {},
   "outputs": [],
   "source": [
    "def concat_files(file_list, path):\n",
    "    df_list = []\n",
    "    for file in file_list:\n",
    "        try:df_temp = pd.read_csv(path + file, encoding=\"euc-kr\")\n",
    "        except: df_temp = pd.read_csv(path + file, encoding=\"utf-8\")\n",
    "        df_list.append(df_temp)\n",
    "    \n",
    "    df = pd.concat(df_list)\n",
    "    return df "
   ]
  },
  {
   "cell_type": "code",
   "execution_count": 52,
   "id": "1ee13964-f00b-4801-b6b6-c5a5877ca62a",
   "metadata": {},
   "outputs": [
    {
     "name": "stdout",
     "output_type": "stream",
     "text": [
      "local_people_df.shape >> (315456, 32)\n",
      "long_foreigner_df.shape >> (423359, 7)\n",
      "temp_foreinger_df.shape >> (253408, 7)\n"
     ]
    }
   ],
   "source": [
    "local_people_df = concat_files(local_people_list, \"./data/집계동 단위 서울 생활인구/local_people/\")\n",
    "long_foreigner_df = concat_files(long_foreigner_list, \"./data/집계동 단위 서울 생활인구/long_foreigner/\")\n",
    "temp_foreinger_df = concat_files(temp_foreinger_list, \"./data/집계동 단위 서울 생활인구/temp_foreigner/\")\n",
    "print(\"local_people_df.shape >>\", local_people_df.shape)\n",
    "print(\"long_foreigner_df.shape >>\", long_foreigner_df.shape)\n",
    "print(\"temp_foreinger_df.shape >>\", temp_foreinger_df.shape)"
   ]
  },
  {
   "cell_type": "code",
   "execution_count": null,
   "id": "4bfbcacd-c52a-468f-82bf-1952a932c7e9",
   "metadata": {},
   "outputs": [],
   "source": []
  },
  {
   "cell_type": "markdown",
   "id": "7dfe8271-d5cc-4d92-9dde-10c8fcf145b3",
   "metadata": {},
   "source": []
  },
  {
   "cell_type": "markdown",
   "id": "0eda100a-23e0-4969-8239-beb2ff3193e8",
   "metadata": {},
   "source": []
  },
  {
   "cell_type": "code",
   "execution_count": null,
   "id": "c77a7224-76f1-48cf-95e5-77b4d3bf2c3c",
   "metadata": {},
   "outputs": [],
   "source": []
  }
 ],
 "metadata": {
  "kernelspec": {
   "display_name": "Python 3.9 (tensorflow)",
   "language": "python",
   "name": "tensorflow"
  },
  "language_info": {
   "codemirror_mode": {
    "name": "ipython",
    "version": 3
   },
   "file_extension": ".py",
   "mimetype": "text/x-python",
   "name": "python",
   "nbconvert_exporter": "python",
   "pygments_lexer": "ipython3",
   "version": "3.9.12"
  }
 },
 "nbformat": 4,
 "nbformat_minor": 5
}
