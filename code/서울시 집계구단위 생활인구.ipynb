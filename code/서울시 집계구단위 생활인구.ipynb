{
 "cells": [
  {
   "cell_type": "markdown",
   "id": "ed1997fd-c560-4f88-bd53-75e2c226ba28",
   "metadata": {},
   "source": [
    "# 서울시 생활인구\n",
    "## 서울 생활인구 현황 (2022.09.28. 기준)\n",
    "### url: https://data.seoul.go.kr/dataVisual/seoul/seoulLivingPopulation.do\n",
    "\n",
    "1. 집계구 단위 서울 생활인구(내국인)\n",
    "    - url: https://data.seoul.go.kr/dataList/OA-14979/F/1/datasetView.do\n",
    "    - 설명: 서울시가 보유한 공공데이터와 통신데이터로 측정한 특정시점에 서울의 특정 지역에 존재하는 인구 중 내국인\n",
    "\n",
    "<!-- <br> -->\n",
    "\n",
    "\n",
    "2. 집계구 단위 서울 생활인구(장기체류 외국인)\n",
    "    - url: https://data.seoul.go.kr/dataList/OA-14978/F/1/datasetView.do\n",
    "    - 설명:서울시가 보유한 공공데이터와 통신데이터로 측정한 특정시점에 서울의 특정 지역에 존재하는 인구 중 장기체류 외국인\n",
    "\n",
    "<!-- <br> -->\n",
    "\n",
    "\n",
    "3. 집계구 단위 서울 생활인구(단기체류 외국인)\n",
    "    - url: https://data.seoul.go.kr/dataList/OA-14980/F/1/datasetView.do\n",
    "    - 설명:서울시가 보유한 공공데이터와 통신데이터로 측정한 특정시점에 서울의 특정 지역에 존재하는 인구 중 단기체류 외국인\n",
    "\n",
    "<!-- <br> -->\n",
    "\n",
    "\n",
    "\n",
    "※ 개인정보 비 식별화를 위하여 ‘3명’ 이하인 경우 “ * ” 처리\n"
   ]
  },
  {
   "cell_type": "code",
   "execution_count": 1,
   "id": "82b072bd-5353-4b29-8326-8454d6486ffa",
   "metadata": {},
   "outputs": [],
   "source": [
    "import os\n",
    "import glob\n",
    "import pandas as pd\n",
    "import numpy as np"
   ]
  },
  {
   "cell_type": "code",
   "execution_count": 2,
   "id": "cf7f48d0-9558-484a-8ae2-20e94eb33dba",
   "metadata": {},
   "outputs": [],
   "source": [
    "from tqdm.auto import tqdm, trange\n",
    "from time import sleep"
   ]
  },
  {
   "cell_type": "markdown",
   "id": "c5539de1-6569-4f6b-b8ad-7fe47bc2da34",
   "metadata": {},
   "source": [
    "## 1. 집계구 단위 서울 생활인구(내국인)\n",
    "    - a)2022년 01월~08월\n",
    "    - b)2019년, 2020년, 2021년\n",
    "    - 2019년 10월 15-27일 데이터 없음\n",
    "## 2. 집계구 단위 서울 생활인구(장기체류 외국인)\n",
    "    - a)2022년 01월~08월\n",
    "    - b)2019년, 2020년, 2021년\n",
    "## 3. 집계구 단위 서울 생활인구(단기체류 외국인)\n",
    "    - a)2022년 01월~08월\n",
    "    - b)2019년, 2020년, 2021년"
   ]
  },
  {
   "cell_type": "code",
   "execution_count": 3,
   "id": "1f192c53-2162-4f14-bade-e4f2e157c39c",
   "metadata": {},
   "outputs": [
    {
     "data": {
      "application/vnd.jupyter.widget-view+json": {
       "model_id": "876c45a68b9e4160b1374df37c6cda43",
       "version_major": 2,
       "version_minor": 0
      },
      "text/plain": [
       "  0%|          | 0/352 [00:00<?, ?it/s]"
      ]
     },
     "metadata": {},
     "output_type": "display_data"
    },
    {
     "data": {
      "application/vnd.jupyter.widget-view+json": {
       "model_id": "bddf7b5b671c4240b1772960e3674c88",
       "version_major": 2,
       "version_minor": 0
      },
      "text/plain": [
       "  0%|          | 0/366 [00:00<?, ?it/s]"
      ]
     },
     "metadata": {},
     "output_type": "display_data"
    },
    {
     "data": {
      "application/vnd.jupyter.widget-view+json": {
       "model_id": "341ffba53a6b48cebc296c5a0ea3a03f",
       "version_major": 2,
       "version_minor": 0
      },
      "text/plain": [
       "  0%|          | 0/365 [00:00<?, ?it/s]"
      ]
     },
     "metadata": {},
     "output_type": "display_data"
    },
    {
     "data": {
      "application/vnd.jupyter.widget-view+json": {
       "model_id": "530391a9dfd64f778be07b0ef278ca91",
       "version_major": 2,
       "version_minor": 0
      },
      "text/plain": [
       "  0%|          | 0/1 [00:00<?, ?it/s]"
      ]
     },
     "metadata": {},
     "output_type": "display_data"
    },
    {
     "data": {
      "application/vnd.jupyter.widget-view+json": {
       "model_id": "073d18ed6bb24cdca9000b92bf5c468b",
       "version_major": 2,
       "version_minor": 0
      },
      "text/plain": [
       "  0%|          | 0/1 [00:00<?, ?it/s]"
      ]
     },
     "metadata": {},
     "output_type": "display_data"
    },
    {
     "name": "stdout",
     "output_type": "stream",
     "text": [
      "local_people_2019_list >> 352\n",
      "local_people_2020_list >> 366\n",
      "local_people_2021_list >> 365\n",
      "long_foreigner_list >> ['LONG_FOREIGNER_20220924.csv']\n",
      "temp_foreinger_list >> ['TEMP_FOREIGNER_20220924.csv']\n"
     ]
    }
   ],
   "source": [
    "# 폴더 안 파일명 리스트 가져오기\n",
    "local_people_2019_list = []\n",
    "local_people_2020_list = []\n",
    "local_people_2021_list = []\n",
    "\n",
    "long_foreigner_list = []\n",
    "temp_foreinger_list= []\n",
    "pbar = tqdm(os.listdir(r\"./data/집계동 단위 서울 생활인구/local_people/2019\"))\n",
    "for file in pbar:\n",
    "    if file.endswith(\".csv\"):\n",
    "        pbar.set_description(file)\n",
    "        local_people_2019_list.append(file)\n",
    "        \n",
    "pbar = tqdm(os.listdir(r\"./data/집계동 단위 서울 생활인구/local_people/2020\"))\n",
    "for file in pbar:\n",
    "    if file.endswith(\".csv\"):\n",
    "        pbar.set_description(file)\n",
    "        local_people_2020_list.append(file)\n",
    "        \n",
    "pbar = tqdm(os.listdir(r\"./data/집계동 단위 서울 생활인구/local_people/2021\"))\n",
    "for file in pbar:\n",
    "    if file.endswith(\".csv\"):\n",
    "        pbar.set_description(file)\n",
    "        local_people_2021_list.append(file)\n",
    "\n",
    "pbar = tqdm(os.listdir(r\"./data/집계동 단위 서울 생활인구/long_foreigner/\"))\n",
    "for file in pbar:\n",
    "    if file.endswith(\".csv\"):\n",
    "        pbar.set_description(file)\n",
    "        long_foreigner_list.append(file)\n",
    " \n",
    "pbar = tqdm(os.listdir(r\"./data/집계동 단위 서울 생활인구/temp_foreigner/\"))\n",
    "for file in pbar:\n",
    "    if file.endswith(\".csv\"):\n",
    "        pbar.set_description(file)\n",
    "        temp_foreinger_list.append(file)\n",
    "\n",
    "print(\"local_people_2019_list >>\", len(local_people_2019_list))\n",
    "print(\"local_people_2020_list >>\", len(local_people_2020_list))\n",
    "print(\"local_people_2021_list >>\", len(local_people_2021_list))\n",
    "\n",
    "print(\"long_foreigner_list >>\", long_foreigner_list)\n",
    "print(\"temp_foreinger_list >>\", temp_foreinger_list)"
   ]
  },
  {
   "cell_type": "code",
   "execution_count": null,
   "id": "5dca71a4-f565-4e74-8bb4-1b0c097a1c8e",
   "metadata": {},
   "outputs": [],
   "source": [
    "def data_process(file_list, path):\n",
    "    df_list = []\n",
    "    for file in pbar:\n",
    "        pbar.set_description(file)\n",
    "        try:df_temp = pd.read_csv(path + file, encoding=\"euc-kr\", na_values=\"*\")\n",
    "        except: df_temp = pd.read_csv(path + file, encoding=\"utf-8\", na_values=\"*\")\n",
    "        df_list.append(df_temp)\n",
    "        "
   ]
  },
  {
   "cell_type": "code",
   "execution_count": 4,
   "id": "4e110472-bb92-4a5b-a10f-f9cf5a4ab248",
   "metadata": {},
   "outputs": [],
   "source": [
    "# csv concat\n",
    "def concat_files(file_list, path):\n",
    "    df_list = []\n",
    "    pbar = tqdm(file_list)\n",
    "    for file in pbar:\n",
    "        pbar.set_description(file)\n",
    "        try:df_temp = pd.read_csv(path + file, encoding=\"euc-kr\", na_values=\"*\")\n",
    "        except: df_temp = pd.read_csv(path + file, encoding=\"utf-8\", na_values=\"*\")\n",
    "        df_list.append(df_temp)\n",
    "    \n",
    "    df = pd.concat(df_list)\n",
    "    return df "
   ]
  },
  {
   "cell_type": "code",
   "execution_count": null,
   "id": "1ee13964-f00b-4801-b6b6-c5a5877ca62a",
   "metadata": {},
   "outputs": [
    {
     "data": {
      "application/vnd.jupyter.widget-view+json": {
       "model_id": "da93d9ec27b44bfb9b93d0407beb69f0",
       "version_major": 2,
       "version_minor": 0
      },
      "text/plain": [
       "  0%|          | 0/352 [00:00<?, ?it/s]"
      ]
     },
     "metadata": {},
     "output_type": "display_data"
    }
   ],
   "source": [
    "local_people_2019_df = concat_files(local_people_2019_list, \"./data/집계동 단위 서울 생활인구/local_people/2019/\")\n",
    "local_people_2020_df = concat_files(local_people_2020_list, \"./data/집계동 단위 서울 생활인구/local_people/2020/\")\n",
    "local_people_2021_df = concat_files(local_people_2021_list, \"./data/집계동 단위 서울 생활인구/local_people/2021/\")\n",
    "\n",
    "\n",
    "long_foreigner_df = concat_files(long_foreigner_list, \"./data/집계동 단위 서울 생활인구/long_foreigner/\")\n",
    "temp_foreinger_df = concat_files(temp_foreinger_list, \"./data/집계동 단위 서울 생활인구/temp_foreigner/\")\n",
    "print(\"local_people_df.shape >>\", local_people_df.shape)\n",
    "print(\"long_foreigner_df.shape >>\", long_foreigner_df.shape)\n",
    "print(\"temp_foreinger_df.shape >>\", temp_foreinger_df.shape)"
   ]
  },
  {
   "cell_type": "code",
   "execution_count": null,
   "id": "c5cb7013-e88b-4ef3-8ed8-4535d4f6fa49",
   "metadata": {},
   "outputs": [],
   "source": [
    "# 결측값 0으로 대체\n",
    "local_people_df.fillna(0, inplace=True)\n",
    "local_people_df.info()"
   ]
  },
  {
   "cell_type": "code",
   "execution_count": null,
   "id": "e0a30051-7c93-4c10-9604-d33291e835a2",
   "metadata": {},
   "outputs": [],
   "source": [
    "cols = local_people_df.columns\n",
    "cols = ['남자10세부터14세생활인구수', '남자15세부터19세생활인구수', '남자20세부터24세생활인구수',\n",
    "       '남자25세부터29세생활인구수', '남자30세부터34세생활인구수', '남자35세부터39세생활인구수',\n",
    "       '남자40세부터44세생활인구수', '남자45세부터49세생활인구수', '남자50세부터54세생활인구수',\n",
    "       '남자55세부터59세생활인구수', '남자60세부터64세생활인구수', '남자65세부터69세생활인구수', '남자70세이상생활인구수',\n",
    "       '여자0세부터9세생활인구수', '여자10세부터14세생활인구수', '여자15세부터19세생활인구수',\n",
    "       '여자20세부터24세생활인구수', '여자25세부터29세생활인구수', '여자30세부터34세생활인구수',\n",
    "       '여자35세부터39세생활인구수', '여자40세부터44세생활인구수', '여자45세부터49세생활인구수',\n",
    "       '여자50세부터54세생활인구수', '여자55세부터59세생활인구수', '여자60세부터64세생활인구수',\n",
    "       '여자65세부터69세생활인구수', '여자70세이상생활인구수']\n",
    "cols"
   ]
  },
  {
   "cell_type": "code",
   "execution_count": null,
   "id": "5c4f9ee8-2035-4263-b7e2-6b928d47ebfc",
   "metadata": {},
   "outputs": [],
   "source": [
    "for col in tqdm(cols):\n",
    "    if col"
   ]
  },
  {
   "cell_type": "code",
   "execution_count": null,
   "id": "c77a7224-76f1-48cf-95e5-77b4d3bf2c3c",
   "metadata": {},
   "outputs": [],
   "source": [
    "local_people_df['10대 남성'] = local_people_df.남자10세부터14세생활인구수 + local_people_df.남자15세부터19세생활인구수\n",
    "local_people_df['20대 남성'] = "
   ]
  }
 ],
 "metadata": {
  "kernelspec": {
   "display_name": "Python 3.9 (tensorflow)",
   "language": "python",
   "name": "tensorflow"
  },
  "language_info": {
   "codemirror_mode": {
    "name": "ipython",
    "version": 3
   },
   "file_extension": ".py",
   "mimetype": "text/x-python",
   "name": "python",
   "nbconvert_exporter": "python",
   "pygments_lexer": "ipython3",
   "version": "3.9.12"
  }
 },
 "nbformat": 4,
 "nbformat_minor": 5
}
