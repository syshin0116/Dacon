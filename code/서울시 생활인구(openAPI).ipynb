{
 "cells": [
  {
   "cell_type": "markdown",
   "id": "31d4f790-6e52-4ed1-b845-4a4b75fa345d",
   "metadata": {},
   "source": [
    "# 서울 생활인구 (OPEN API 사용)"
   ]
  },
  {
   "cell_type": "markdown",
   "id": "249c2506-8425-48b1-9891-1a5010024a5e",
   "metadata": {},
   "source": [
    "## 서울시 열린데이터 광장에서 OpenAPI 활용하여 원하는 데이터 셋 호출\n",
    "1. 서울생활인구 관내이동\n",
    "    - url: https://data.seoul.go.kr/dataList/OA-15377/F/1/datasetView.do#\n",
    "    - 서울 관내 지역에서 거주하며, 통근/통학, 쇼핑. 관광 등 특정시점에 서울의 특정 지역에 존재하는 내국인과 장기 체류 외국인 정보를 제공합니다.\n",
    "    - ※ 개인정보 비 식별화를 위하여 ‘3명’ 이하인 경우 “ * ” 처리\n",
    "    - ※ Sheet와 OpenAPI는 5일전 당일자료만 제공합니다.\n",
    "2. 서울생활인구 대도시권 내외국인\n",
    "    - url: https://data.seoul.go.kr/dataList/OA-14981/S/1/datasetView.do#\n",
    "    - 서울 外 지역에서 거주하며, 통근/통학, 쇼핑. 관광 등 특정시점에 서울의 특정 지역에 존재하는 내국인과 장기 체류 외국인\n",
    "    - ※ 개인정보 비 식별화를 위하여 ‘3명’ 이하인 경우 “ * ” 처리\n",
    "    - ※ Sheet와 OpenAPI는 5일전 당일자료만 제공합니다.\n",
    "\n"
   ]
  },
  {
   "cell_type": "code",
   "execution_count": 1,
   "id": "bfa73536-1426-48aa-a13d-7e986db84713",
   "metadata": {},
   "outputs": [],
   "source": [
    "import requests\n",
    "import json\n",
    "import pandas as pd"
   ]
  },
  {
   "cell_type": "markdown",
   "id": "25a8862a-61b6-4116-9371-6b4ec8386dbf",
   "metadata": {
    "tags": []
   },
   "source": [
    "## 서울생활인구\n",
    "\n",
    "- endpoint 확인\n",
    "\n",
    "- 오픈API 서비스되는 서버의 ip 혹은 domain 주소\n",
    "\n",
    "- api활용 문서 확인해보면 endpoint 확인할 수 있는 코드 들어있으므로 복사해서 사용한다.\n",
    "\n",
    "- datatype: xml 혹은 json 설정하여 받아오는데 최근에는 json 형식 많이 사용\n",
    "\n",
    "- serviceKey에 위에 발급받은 key값 할당해준다.\n",
    "\n",
    "\n",
    "- url 가져올때 샘플 url에 설명있음 -> 가져오고 싶은 범위 설정 가능"
   ]
  },
  {
   "cell_type": "markdown",
   "id": "3e5b7ea8-ad56-468c-9c4c-1657b9eb328e",
   "metadata": {},
   "source": [
    "## 서울생활인구 대도시권 내외국인"
   ]
  },
  {
   "cell_type": "code",
   "execution_count": 8,
   "id": "47e370fe-726b-4e5f-957e-d2bbf0993502",
   "metadata": {},
   "outputs": [],
   "source": [
    "# 서울 열린 데이터 광장 인증키\n",
    "# KEY: OpenAPI 발급된 키\n",
    "# TYPE: xml , xls , json 선택가능\n",
    "\n",
    "my_key = '49524379787379733634554a415448'\n",
    "endpoint_대도시권_내외국인=f\"http://openapi.seoul.go.kr:8088/{my_key}/json/ppsOrgnCt/1/5/\"\n"
   ]
  },
  {
   "cell_type": "code",
   "execution_count": 10,
   "id": "71ebc016-78fc-4814-ace9-5ddd4f8d64c0",
   "metadata": {},
   "outputs": [],
   "source": [
    "#api 호출\n",
    "resp=requests.get(endpoint_대도시권_내외국인)"
   ]
  },
  {
   "cell_type": "code",
   "execution_count": 11,
   "id": "36d958b9-f7db-4194-8671-b2904a0c8a2e",
   "metadata": {},
   "outputs": [
    {
     "data": {
      "text/plain": [
       "{'ppsOrgnCt': {'list_total_count': 592637,\n",
       "  'RESULT': {'CODE': 'INFO-000', 'MESSAGE': '정상 처리되었습니다'},\n",
       "  'row': [{'STDR_DE_ID': '20220928',\n",
       "    'TMZON_PD_SE': '00',\n",
       "    'ADSTRD_CODE_SE': '11110515',\n",
       "    'LVPOP_SN': '1',\n",
       "    'MLNG_RESDNC_CODE_SE': '44000',\n",
       "    'TOT_LVPOP_CO': '37.449100000000001',\n",
       "    'MALE_F10T14_LVPOP_CO': '*',\n",
       "    'MALE_F15T19_LVPOP_CO': '*',\n",
       "    'MALE_F20T24_LVPOP_CO': '7.238',\n",
       "    'MALE_F25T29_LVPOP_CO': '*',\n",
       "    'MALE_F30T34_LVPOP_CO': '*',\n",
       "    'MALE_F35T39_LVPOP_CO': '*',\n",
       "    'MALE_F40T44_LVPOP_CO': '*',\n",
       "    'MALE_F45T49_LVPOP_CO': '*',\n",
       "    'MALE_F50T54_LVPOP_CO': '*',\n",
       "    'MALE_F55T59_LVPOP_CO': '*',\n",
       "    'MALE_F60T64_LVPOP_CO': '*',\n",
       "    'MALE_F65T69_LVPOP_CO': '*',\n",
       "    'MALE_F70T74_LVPOP_CO': '*',\n",
       "    'MALE_F75T79_LVPOP_CO': '*',\n",
       "    'FEMALE_F10T14_LVPOP_CO': '*',\n",
       "    'FEMALE_F15T19_LVPOP_CO': '5.2742',\n",
       "    'FEMALE_F20T24_LVPOP_CO': '6.7251',\n",
       "    'FEMALE_F25T29_LVPOP_CO': '*',\n",
       "    'FEMALE_F30T34_LVPOP_CO': '*',\n",
       "    'FEMALE_F35T39_LVPOP_CO': '*',\n",
       "    'FEMALE_F40T44_LVPOP_CO': '*',\n",
       "    'FEMALE_F45T49_LVPOP_CO': '7.8549',\n",
       "    'FEMALE_F50T54_LVPOP_CO': '*',\n",
       "    'FEMALE_F55T59_LVPOP_CO': '*',\n",
       "    'FEMALE_F60T64_LVPOP_CO': '*',\n",
       "    'FEMALE_F65T69_LVPOP_CO': '*',\n",
       "    'FEMALE_F70T74_LVPOP_CO': '*',\n",
       "    'FEMALE_F75T79_LVPOP_CO': '*',\n",
       "    'LNGTR_STAY_FRGNR_CO': '*'},\n",
       "   {'STDR_DE_ID': '20220928',\n",
       "    'TMZON_PD_SE': '00',\n",
       "    'ADSTRD_CODE_SE': '11110515',\n",
       "    'LVPOP_SN': '2',\n",
       "    'MLNG_RESDNC_CODE_SE': '50000',\n",
       "    'TOT_LVPOP_CO': '35.094799999999999',\n",
       "    'MALE_F10T14_LVPOP_CO': '*',\n",
       "    'MALE_F15T19_LVPOP_CO': '*',\n",
       "    'MALE_F20T24_LVPOP_CO': '*',\n",
       "    'MALE_F25T29_LVPOP_CO': '*',\n",
       "    'MALE_F30T34_LVPOP_CO': '*',\n",
       "    'MALE_F35T39_LVPOP_CO': '*',\n",
       "    'MALE_F40T44_LVPOP_CO': '*',\n",
       "    'MALE_F45T49_LVPOP_CO': '*',\n",
       "    'MALE_F50T54_LVPOP_CO': '*',\n",
       "    'MALE_F55T59_LVPOP_CO': '*',\n",
       "    'MALE_F60T64_LVPOP_CO': '5.2122',\n",
       "    'MALE_F65T69_LVPOP_CO': '*',\n",
       "    'MALE_F70T74_LVPOP_CO': '*',\n",
       "    'MALE_F75T79_LVPOP_CO': '*',\n",
       "    'FEMALE_F10T14_LVPOP_CO': '*',\n",
       "    'FEMALE_F15T19_LVPOP_CO': '*',\n",
       "    'FEMALE_F20T24_LVPOP_CO': '*',\n",
       "    'FEMALE_F25T29_LVPOP_CO': '*',\n",
       "    'FEMALE_F30T34_LVPOP_CO': '*',\n",
       "    'FEMALE_F35T39_LVPOP_CO': '4.0084',\n",
       "    'FEMALE_F40T44_LVPOP_CO': '*',\n",
       "    'FEMALE_F45T49_LVPOP_CO': '*',\n",
       "    'FEMALE_F50T54_LVPOP_CO': '*',\n",
       "    'FEMALE_F55T59_LVPOP_CO': '*',\n",
       "    'FEMALE_F60T64_LVPOP_CO': '*',\n",
       "    'FEMALE_F65T69_LVPOP_CO': '*',\n",
       "    'FEMALE_F70T74_LVPOP_CO': '*',\n",
       "    'FEMALE_F75T79_LVPOP_CO': '*',\n",
       "    'LNGTR_STAY_FRGNR_CO': '*'},\n",
       "   {'STDR_DE_ID': '20220928',\n",
       "    'TMZON_PD_SE': '00',\n",
       "    'ADSTRD_CODE_SE': '11110515',\n",
       "    'LVPOP_SN': '4',\n",
       "    'MLNG_RESDNC_CODE_SE': '27000',\n",
       "    'TOT_LVPOP_CO': '26.837499999999999',\n",
       "    'MALE_F10T14_LVPOP_CO': '*',\n",
       "    'MALE_F15T19_LVPOP_CO': '18.249',\n",
       "    'MALE_F20T24_LVPOP_CO': '*',\n",
       "    'MALE_F25T29_LVPOP_CO': '*',\n",
       "    'MALE_F30T34_LVPOP_CO': '*',\n",
       "    'MALE_F35T39_LVPOP_CO': '*',\n",
       "    'MALE_F40T44_LVPOP_CO': '*',\n",
       "    'MALE_F45T49_LVPOP_CO': '*',\n",
       "    'MALE_F50T54_LVPOP_CO': '*',\n",
       "    'MALE_F55T59_LVPOP_CO': '*',\n",
       "    'MALE_F60T64_LVPOP_CO': '*',\n",
       "    'MALE_F65T69_LVPOP_CO': '*',\n",
       "    'MALE_F70T74_LVPOP_CO': '*',\n",
       "    'MALE_F75T79_LVPOP_CO': '*',\n",
       "    'FEMALE_F10T14_LVPOP_CO': '*',\n",
       "    'FEMALE_F15T19_LVPOP_CO': '*',\n",
       "    'FEMALE_F20T24_LVPOP_CO': '*',\n",
       "    'FEMALE_F25T29_LVPOP_CO': '5.1869',\n",
       "    'FEMALE_F30T34_LVPOP_CO': '*',\n",
       "    'FEMALE_F35T39_LVPOP_CO': '*',\n",
       "    'FEMALE_F40T44_LVPOP_CO': '*',\n",
       "    'FEMALE_F45T49_LVPOP_CO': '*',\n",
       "    'FEMALE_F50T54_LVPOP_CO': '*',\n",
       "    'FEMALE_F55T59_LVPOP_CO': '*',\n",
       "    'FEMALE_F60T64_LVPOP_CO': '*',\n",
       "    'FEMALE_F65T69_LVPOP_CO': '*',\n",
       "    'FEMALE_F70T74_LVPOP_CO': '*',\n",
       "    'FEMALE_F75T79_LVPOP_CO': '*',\n",
       "    'LNGTR_STAY_FRGNR_CO': '*'},\n",
       "   {'STDR_DE_ID': '20220928',\n",
       "    'TMZON_PD_SE': '00',\n",
       "    'ADSTRD_CODE_SE': '11110515',\n",
       "    'LVPOP_SN': '8',\n",
       "    'MLNG_RESDNC_CODE_SE': '41360',\n",
       "    'TOT_LVPOP_CO': '15.7409',\n",
       "    'MALE_F10T14_LVPOP_CO': '*',\n",
       "    'MALE_F15T19_LVPOP_CO': '*',\n",
       "    'MALE_F20T24_LVPOP_CO': '*',\n",
       "    'MALE_F25T29_LVPOP_CO': '*',\n",
       "    'MALE_F30T34_LVPOP_CO': '*',\n",
       "    'MALE_F35T39_LVPOP_CO': '*',\n",
       "    'MALE_F40T44_LVPOP_CO': '*',\n",
       "    'MALE_F45T49_LVPOP_CO': '*',\n",
       "    'MALE_F50T54_LVPOP_CO': '*',\n",
       "    'MALE_F55T59_LVPOP_CO': '*',\n",
       "    'MALE_F60T64_LVPOP_CO': '*',\n",
       "    'MALE_F65T69_LVPOP_CO': '*',\n",
       "    'MALE_F70T74_LVPOP_CO': '*',\n",
       "    'MALE_F75T79_LVPOP_CO': '*',\n",
       "    'FEMALE_F10T14_LVPOP_CO': '*',\n",
       "    'FEMALE_F15T19_LVPOP_CO': '*',\n",
       "    'FEMALE_F20T24_LVPOP_CO': '*',\n",
       "    'FEMALE_F25T29_LVPOP_CO': '*',\n",
       "    'FEMALE_F30T34_LVPOP_CO': '*',\n",
       "    'FEMALE_F35T39_LVPOP_CO': '*',\n",
       "    'FEMALE_F40T44_LVPOP_CO': '*',\n",
       "    'FEMALE_F45T49_LVPOP_CO': '*',\n",
       "    'FEMALE_F50T54_LVPOP_CO': '*',\n",
       "    'FEMALE_F55T59_LVPOP_CO': '*',\n",
       "    'FEMALE_F60T64_LVPOP_CO': '*',\n",
       "    'FEMALE_F65T69_LVPOP_CO': '*',\n",
       "    'FEMALE_F70T74_LVPOP_CO': '*',\n",
       "    'FEMALE_F75T79_LVPOP_CO': '*',\n",
       "    'LNGTR_STAY_FRGNR_CO': '*'},\n",
       "   {'STDR_DE_ID': '20220928',\n",
       "    'TMZON_PD_SE': '00',\n",
       "    'ADSTRD_CODE_SE': '11110515',\n",
       "    'LVPOP_SN': '16',\n",
       "    'MLNG_RESDNC_CODE_SE': '41281',\n",
       "    'TOT_LVPOP_CO': '9.6829000000000001',\n",
       "    'MALE_F10T14_LVPOP_CO': '*',\n",
       "    'MALE_F15T19_LVPOP_CO': '*',\n",
       "    'MALE_F20T24_LVPOP_CO': '*',\n",
       "    'MALE_F25T29_LVPOP_CO': '*',\n",
       "    'MALE_F30T34_LVPOP_CO': '*',\n",
       "    'MALE_F35T39_LVPOP_CO': '*',\n",
       "    'MALE_F40T44_LVPOP_CO': '*',\n",
       "    'MALE_F45T49_LVPOP_CO': '*',\n",
       "    'MALE_F50T54_LVPOP_CO': '*',\n",
       "    'MALE_F55T59_LVPOP_CO': '*',\n",
       "    'MALE_F60T64_LVPOP_CO': '*',\n",
       "    'MALE_F65T69_LVPOP_CO': '*',\n",
       "    'MALE_F70T74_LVPOP_CO': '*',\n",
       "    'MALE_F75T79_LVPOP_CO': '*',\n",
       "    'FEMALE_F10T14_LVPOP_CO': '*',\n",
       "    'FEMALE_F15T19_LVPOP_CO': '*',\n",
       "    'FEMALE_F20T24_LVPOP_CO': '*',\n",
       "    'FEMALE_F25T29_LVPOP_CO': '*',\n",
       "    'FEMALE_F30T34_LVPOP_CO': '*',\n",
       "    'FEMALE_F35T39_LVPOP_CO': '*',\n",
       "    'FEMALE_F40T44_LVPOP_CO': '*',\n",
       "    'FEMALE_F45T49_LVPOP_CO': '*',\n",
       "    'FEMALE_F50T54_LVPOP_CO': '*',\n",
       "    'FEMALE_F55T59_LVPOP_CO': '*',\n",
       "    'FEMALE_F60T64_LVPOP_CO': '*',\n",
       "    'FEMALE_F65T69_LVPOP_CO': '*',\n",
       "    'FEMALE_F70T74_LVPOP_CO': '*',\n",
       "    'FEMALE_F75T79_LVPOP_CO': '*',\n",
       "    'LNGTR_STAY_FRGNR_CO': '*'}]}}"
      ]
     },
     "execution_count": 11,
     "metadata": {},
     "output_type": "execute_result"
    }
   ],
   "source": [
    "data=resp.json()\n",
    "data"
   ]
  },
  {
   "cell_type": "code",
   "execution_count": 14,
   "id": "789bd26f-e3c6-4f27-9722-2e1bc0717f55",
   "metadata": {},
   "outputs": [
    {
     "data": {
      "text/html": [
       "<div>\n",
       "<style scoped>\n",
       "    .dataframe tbody tr th:only-of-type {\n",
       "        vertical-align: middle;\n",
       "    }\n",
       "\n",
       "    .dataframe tbody tr th {\n",
       "        vertical-align: top;\n",
       "    }\n",
       "\n",
       "    .dataframe thead th {\n",
       "        text-align: right;\n",
       "    }\n",
       "</style>\n",
       "<table border=\"1\" class=\"dataframe\">\n",
       "  <thead>\n",
       "    <tr style=\"text-align: right;\">\n",
       "      <th></th>\n",
       "      <th>STDR_DE_ID</th>\n",
       "      <th>TMZON_PD_SE</th>\n",
       "      <th>ADSTRD_CODE_SE</th>\n",
       "      <th>LVPOP_SN</th>\n",
       "      <th>MLNG_RESDNC_CODE_SE</th>\n",
       "      <th>TOT_LVPOP_CO</th>\n",
       "      <th>MALE_F10T14_LVPOP_CO</th>\n",
       "      <th>MALE_F15T19_LVPOP_CO</th>\n",
       "      <th>MALE_F20T24_LVPOP_CO</th>\n",
       "      <th>MALE_F25T29_LVPOP_CO</th>\n",
       "      <th>...</th>\n",
       "      <th>FEMALE_F35T39_LVPOP_CO</th>\n",
       "      <th>FEMALE_F40T44_LVPOP_CO</th>\n",
       "      <th>FEMALE_F45T49_LVPOP_CO</th>\n",
       "      <th>FEMALE_F50T54_LVPOP_CO</th>\n",
       "      <th>FEMALE_F55T59_LVPOP_CO</th>\n",
       "      <th>FEMALE_F60T64_LVPOP_CO</th>\n",
       "      <th>FEMALE_F65T69_LVPOP_CO</th>\n",
       "      <th>FEMALE_F70T74_LVPOP_CO</th>\n",
       "      <th>FEMALE_F75T79_LVPOP_CO</th>\n",
       "      <th>LNGTR_STAY_FRGNR_CO</th>\n",
       "    </tr>\n",
       "  </thead>\n",
       "  <tbody>\n",
       "    <tr>\n",
       "      <th>0</th>\n",
       "      <td>20220928</td>\n",
       "      <td>00</td>\n",
       "      <td>11110515</td>\n",
       "      <td>1</td>\n",
       "      <td>44000</td>\n",
       "      <td>37.449100000000001</td>\n",
       "      <td>*</td>\n",
       "      <td>*</td>\n",
       "      <td>7.238</td>\n",
       "      <td>*</td>\n",
       "      <td>...</td>\n",
       "      <td>*</td>\n",
       "      <td>*</td>\n",
       "      <td>7.8549</td>\n",
       "      <td>*</td>\n",
       "      <td>*</td>\n",
       "      <td>*</td>\n",
       "      <td>*</td>\n",
       "      <td>*</td>\n",
       "      <td>*</td>\n",
       "      <td>*</td>\n",
       "    </tr>\n",
       "    <tr>\n",
       "      <th>1</th>\n",
       "      <td>20220928</td>\n",
       "      <td>00</td>\n",
       "      <td>11110515</td>\n",
       "      <td>2</td>\n",
       "      <td>50000</td>\n",
       "      <td>35.094799999999999</td>\n",
       "      <td>*</td>\n",
       "      <td>*</td>\n",
       "      <td>*</td>\n",
       "      <td>*</td>\n",
       "      <td>...</td>\n",
       "      <td>4.0084</td>\n",
       "      <td>*</td>\n",
       "      <td>*</td>\n",
       "      <td>*</td>\n",
       "      <td>*</td>\n",
       "      <td>*</td>\n",
       "      <td>*</td>\n",
       "      <td>*</td>\n",
       "      <td>*</td>\n",
       "      <td>*</td>\n",
       "    </tr>\n",
       "    <tr>\n",
       "      <th>2</th>\n",
       "      <td>20220928</td>\n",
       "      <td>00</td>\n",
       "      <td>11110515</td>\n",
       "      <td>4</td>\n",
       "      <td>27000</td>\n",
       "      <td>26.837499999999999</td>\n",
       "      <td>*</td>\n",
       "      <td>18.249</td>\n",
       "      <td>*</td>\n",
       "      <td>*</td>\n",
       "      <td>...</td>\n",
       "      <td>*</td>\n",
       "      <td>*</td>\n",
       "      <td>*</td>\n",
       "      <td>*</td>\n",
       "      <td>*</td>\n",
       "      <td>*</td>\n",
       "      <td>*</td>\n",
       "      <td>*</td>\n",
       "      <td>*</td>\n",
       "      <td>*</td>\n",
       "    </tr>\n",
       "    <tr>\n",
       "      <th>3</th>\n",
       "      <td>20220928</td>\n",
       "      <td>00</td>\n",
       "      <td>11110515</td>\n",
       "      <td>8</td>\n",
       "      <td>41360</td>\n",
       "      <td>15.7409</td>\n",
       "      <td>*</td>\n",
       "      <td>*</td>\n",
       "      <td>*</td>\n",
       "      <td>*</td>\n",
       "      <td>...</td>\n",
       "      <td>*</td>\n",
       "      <td>*</td>\n",
       "      <td>*</td>\n",
       "      <td>*</td>\n",
       "      <td>*</td>\n",
       "      <td>*</td>\n",
       "      <td>*</td>\n",
       "      <td>*</td>\n",
       "      <td>*</td>\n",
       "      <td>*</td>\n",
       "    </tr>\n",
       "    <tr>\n",
       "      <th>4</th>\n",
       "      <td>20220928</td>\n",
       "      <td>00</td>\n",
       "      <td>11110515</td>\n",
       "      <td>16</td>\n",
       "      <td>41281</td>\n",
       "      <td>9.6829000000000001</td>\n",
       "      <td>*</td>\n",
       "      <td>*</td>\n",
       "      <td>*</td>\n",
       "      <td>*</td>\n",
       "      <td>...</td>\n",
       "      <td>*</td>\n",
       "      <td>*</td>\n",
       "      <td>*</td>\n",
       "      <td>*</td>\n",
       "      <td>*</td>\n",
       "      <td>*</td>\n",
       "      <td>*</td>\n",
       "      <td>*</td>\n",
       "      <td>*</td>\n",
       "      <td>*</td>\n",
       "    </tr>\n",
       "  </tbody>\n",
       "</table>\n",
       "<p>5 rows × 35 columns</p>\n",
       "</div>"
      ],
      "text/plain": [
       "  STDR_DE_ID TMZON_PD_SE ADSTRD_CODE_SE LVPOP_SN MLNG_RESDNC_CODE_SE  \\\n",
       "0   20220928          00       11110515        1               44000   \n",
       "1   20220928          00       11110515        2               50000   \n",
       "2   20220928          00       11110515        4               27000   \n",
       "3   20220928          00       11110515        8               41360   \n",
       "4   20220928          00       11110515       16               41281   \n",
       "\n",
       "         TOT_LVPOP_CO MALE_F10T14_LVPOP_CO MALE_F15T19_LVPOP_CO  \\\n",
       "0  37.449100000000001                    *                    *   \n",
       "1  35.094799999999999                    *                    *   \n",
       "2  26.837499999999999                    *               18.249   \n",
       "3             15.7409                    *                    *   \n",
       "4  9.6829000000000001                    *                    *   \n",
       "\n",
       "  MALE_F20T24_LVPOP_CO MALE_F25T29_LVPOP_CO  ... FEMALE_F35T39_LVPOP_CO  \\\n",
       "0                7.238                    *  ...                      *   \n",
       "1                    *                    *  ...                 4.0084   \n",
       "2                    *                    *  ...                      *   \n",
       "3                    *                    *  ...                      *   \n",
       "4                    *                    *  ...                      *   \n",
       "\n",
       "  FEMALE_F40T44_LVPOP_CO FEMALE_F45T49_LVPOP_CO FEMALE_F50T54_LVPOP_CO  \\\n",
       "0                      *                 7.8549                      *   \n",
       "1                      *                      *                      *   \n",
       "2                      *                      *                      *   \n",
       "3                      *                      *                      *   \n",
       "4                      *                      *                      *   \n",
       "\n",
       "  FEMALE_F55T59_LVPOP_CO FEMALE_F60T64_LVPOP_CO FEMALE_F65T69_LVPOP_CO  \\\n",
       "0                      *                      *                      *   \n",
       "1                      *                      *                      *   \n",
       "2                      *                      *                      *   \n",
       "3                      *                      *                      *   \n",
       "4                      *                      *                      *   \n",
       "\n",
       "  FEMALE_F70T74_LVPOP_CO FEMALE_F75T79_LVPOP_CO LNGTR_STAY_FRGNR_CO  \n",
       "0                      *                      *                   *  \n",
       "1                      *                      *                   *  \n",
       "2                      *                      *                   *  \n",
       "3                      *                      *                   *  \n",
       "4                      *                      *                   *  \n",
       "\n",
       "[5 rows x 35 columns]"
      ]
     },
     "execution_count": 14,
     "metadata": {},
     "output_type": "execute_result"
    }
   ],
   "source": [
    "outer_pop=pd.DataFrame(data['ppsOrgnCt']['row'])\n",
    "outer_pop"
   ]
  },
  {
   "cell_type": "markdown",
   "id": "fd68114b-bb32-4bf8-8f9f-f4cfa24fb683",
   "metadata": {},
   "source": [
    "## 2021년 데이터"
   ]
  },
  {
   "cell_type": "code",
   "execution_count": 21,
   "id": "778fff8b-70d2-4e8d-aa53-a01f7de0c5a7",
   "metadata": {},
   "outputs": [
    {
     "data": {
      "text/plain": [
       "(604, 52)"
      ]
     },
     "execution_count": 21,
     "metadata": {},
     "output_type": "execute_result"
    }
   ],
   "source": [
    "endpoint=f\"http://openapi.seoul.go.kr:8088/{my_key}/json/CardSubwayTime/1/1000/202101/\"\n",
    "resp=requests.get(endpoint)\n",
    "data=resp.json()\n",
    "s2101=pd.DataFrame(data['CardSubwayTime']['row'])\n",
    "s2101.shape"
   ]
  },
  {
   "cell_type": "code",
   "execution_count": 22,
   "id": "845e935f-23fc-4f5a-b55a-a46810dc5518",
   "metadata": {},
   "outputs": [
    {
     "data": {
      "text/plain": [
       "(605, 52)"
      ]
     },
     "execution_count": 22,
     "metadata": {},
     "output_type": "execute_result"
    }
   ],
   "source": [
    "endpoint=f\"http://openapi.seoul.go.kr:8088/{my_key}/json/CardSubwayTime/1/1000/202102/\"\n",
    "resp=requests.get(endpoint)\n",
    "data=resp.json()\n",
    "s2102=pd.DataFrame(data['CardSubwayTime']['row'])\n",
    "s2102.shape"
   ]
  },
  {
   "cell_type": "code",
   "execution_count": 23,
   "id": "cfc559f8-3b89-4e3e-859c-a7224909ff7c",
   "metadata": {},
   "outputs": [
    {
     "data": {
      "text/plain": [
       "(606, 52)"
      ]
     },
     "execution_count": 23,
     "metadata": {},
     "output_type": "execute_result"
    }
   ],
   "source": [
    "endpoint=f\"http://openapi.seoul.go.kr:8088/{my_key}/json/CardSubwayTime/1/1000/202103/\"\n",
    "resp=requests.get(endpoint)\n",
    "data=resp.json()\n",
    "s2103=pd.DataFrame(data['CardSubwayTime']['row'])\n",
    "s2103.shape"
   ]
  },
  {
   "cell_type": "code",
   "execution_count": 24,
   "id": "9324ceb9-fb25-44f4-8650-46f5e52c6244",
   "metadata": {},
   "outputs": [
    {
     "data": {
      "text/plain": [
       "(608, 52)"
      ]
     },
     "execution_count": 24,
     "metadata": {},
     "output_type": "execute_result"
    }
   ],
   "source": [
    "endpoint=f\"http://openapi.seoul.go.kr:8088/{my_key}/json/CardSubwayTime/1/1000/202104/\"\n",
    "resp=requests.get(endpoint)\n",
    "data=resp.json()\n",
    "s2104=pd.DataFrame(data['CardSubwayTime']['row'])\n",
    "s2104.shape"
   ]
  },
  {
   "cell_type": "code",
   "execution_count": 25,
   "id": "6b1db12d-81ed-4fbf-93b8-fc843523babe",
   "metadata": {},
   "outputs": [
    {
     "data": {
      "text/plain": [
       "(608, 52)"
      ]
     },
     "execution_count": 25,
     "metadata": {},
     "output_type": "execute_result"
    }
   ],
   "source": [
    "endpoint=f\"http://openapi.seoul.go.kr:8088/{my_key}/json/CardSubwayTime/1/1000/202105/\"\n",
    "resp=requests.get(endpoint)\n",
    "data=resp.json()\n",
    "s2105=pd.DataFrame(data['CardSubwayTime']['row'])\n",
    "s2105.shape"
   ]
  },
  {
   "cell_type": "code",
   "execution_count": 26,
   "id": "4c6491b6-36d0-419d-a6f2-2a0e7a8d8ecc",
   "metadata": {},
   "outputs": [
    {
     "data": {
      "text/plain": [
       "(608, 52)"
      ]
     },
     "execution_count": 26,
     "metadata": {},
     "output_type": "execute_result"
    }
   ],
   "source": [
    "endpoint=f\"http://openapi.seoul.go.kr:8088/{my_key}/json/CardSubwayTime/1/1000/202106/\"\n",
    "resp=requests.get(endpoint)\n",
    "data=resp.json()\n",
    "s2106=pd.DataFrame(data['CardSubwayTime']['row'])\n",
    "s2106.shape"
   ]
  },
  {
   "cell_type": "code",
   "execution_count": 27,
   "id": "400abf12-9d7d-4c97-bc97-7b6ecae1a118",
   "metadata": {},
   "outputs": [
    {
     "data": {
      "text/plain": [
       "(607, 52)"
      ]
     },
     "execution_count": 27,
     "metadata": {},
     "output_type": "execute_result"
    }
   ],
   "source": [
    "endpoint=f\"http://openapi.seoul.go.kr:8088/{my_key}/json/CardSubwayTime/1/1000/202107/\"\n",
    "resp=requests.get(endpoint)\n",
    "data=resp.json()\n",
    "s2107=pd.DataFrame(data['CardSubwayTime']['row'])\n",
    "s2107.shape"
   ]
  },
  {
   "cell_type": "code",
   "execution_count": 28,
   "id": "dda38cc6-0ccb-4982-a57e-1fbb870618bd",
   "metadata": {},
   "outputs": [
    {
     "data": {
      "text/plain": [
       "(607, 52)"
      ]
     },
     "execution_count": 28,
     "metadata": {},
     "output_type": "execute_result"
    }
   ],
   "source": [
    "endpoint=f\"http://openapi.seoul.go.kr:8088/{my_key}/json/CardSubwayTime/1/1000/202108/\"\n",
    "resp=requests.get(endpoint)\n",
    "data=resp.json()\n",
    "s2108=pd.DataFrame(data['CardSubwayTime']['row'])\n",
    "s2108.shape"
   ]
  },
  {
   "cell_type": "code",
   "execution_count": 29,
   "id": "08f54901-7634-4c29-9206-72c6c781cf6c",
   "metadata": {},
   "outputs": [
    {
     "data": {
      "text/plain": [
       "(607, 52)"
      ]
     },
     "execution_count": 29,
     "metadata": {},
     "output_type": "execute_result"
    }
   ],
   "source": [
    "endpoint=f\"http://openapi.seoul.go.kr:8088/{my_key}/json/CardSubwayTime/1/1000/202109/\"\n",
    "resp=requests.get(endpoint)\n",
    "data=resp.json()\n",
    "s2109=pd.DataFrame(data['CardSubwayTime']['row'])\n",
    "s2109.shape"
   ]
  },
  {
   "cell_type": "code",
   "execution_count": 30,
   "id": "6e2ebc2c-75c6-41bf-8097-9c99247e75aa",
   "metadata": {},
   "outputs": [
    {
     "data": {
      "text/plain": [
       "(609, 52)"
      ]
     },
     "execution_count": 30,
     "metadata": {},
     "output_type": "execute_result"
    }
   ],
   "source": [
    "endpoint=f\"http://openapi.seoul.go.kr:8088/{my_key}/json/CardSubwayTime/1/1000/202110/\"\n",
    "resp=requests.get(endpoint)\n",
    "data=resp.json()\n",
    "s2110=pd.DataFrame(data['CardSubwayTime']['row'])\n",
    "s2110.shape"
   ]
  },
  {
   "cell_type": "code",
   "execution_count": 31,
   "id": "144432da-cac8-475a-9343-6a4c68b324d9",
   "metadata": {},
   "outputs": [
    {
     "data": {
      "text/plain": [
       "(609, 52)"
      ]
     },
     "execution_count": 31,
     "metadata": {},
     "output_type": "execute_result"
    }
   ],
   "source": [
    "endpoint=f\"http://openapi.seoul.go.kr:8088/{my_key}/json/CardSubwayTime/1/1000/202111/\"\n",
    "resp=requests.get(endpoint)\n",
    "data=resp.json()\n",
    "s2111=pd.DataFrame(data['CardSubwayTime']['row'])\n",
    "s2111.shape"
   ]
  },
  {
   "cell_type": "code",
   "execution_count": 32,
   "id": "852f1ed7-b60e-45ec-8de4-dda1f7d5fba5",
   "metadata": {},
   "outputs": [
    {
     "data": {
      "text/plain": [
       "(609, 52)"
      ]
     },
     "execution_count": 32,
     "metadata": {},
     "output_type": "execute_result"
    }
   ],
   "source": [
    "endpoint=f\"http://openapi.seoul.go.kr:8088/{my_key}/json/CardSubwayTime/1/1000/202112/\"\n",
    "resp=requests.get(endpoint)\n",
    "data=resp.json()\n",
    "s2112=pd.DataFrame(data['CardSubwayTime']['row'])\n",
    "s2112.shape"
   ]
  },
  {
   "cell_type": "markdown",
   "id": "35274656-f6be-47f4-bf3c-7011cb494a18",
   "metadata": {
    "tags": []
   },
   "source": [
    "## 2020년 데이터"
   ]
  },
  {
   "cell_type": "code",
   "execution_count": 33,
   "id": "94dd5dee-7af4-48fb-b596-e85eec3de10b",
   "metadata": {},
   "outputs": [
    {
     "data": {
      "text/plain": [
       "(597, 52)"
      ]
     },
     "execution_count": 33,
     "metadata": {},
     "output_type": "execute_result"
    }
   ],
   "source": [
    "endpoint=f\"http://openapi.seoul.go.kr:8088/{my_key}/json/CardSubwayTime/1/1000/202001/\"\n",
    "resp=requests.get(endpoint)\n",
    "data=resp.json()\n",
    "s2001=pd.DataFrame(data['CardSubwayTime']['row'])\n",
    "s2001.shape"
   ]
  },
  {
   "cell_type": "code",
   "execution_count": 34,
   "id": "a8ce0491-158b-4db9-ae0d-a5b97190724f",
   "metadata": {},
   "outputs": [
    {
     "data": {
      "text/plain": [
       "(597, 52)"
      ]
     },
     "execution_count": 34,
     "metadata": {},
     "output_type": "execute_result"
    }
   ],
   "source": [
    "endpoint=f\"http://openapi.seoul.go.kr:8088/{my_key}/json/CardSubwayTime/1/1000/202002/\"\n",
    "resp=requests.get(endpoint)\n",
    "data=resp.json()\n",
    "s2002=pd.DataFrame(data['CardSubwayTime']['row'])\n",
    "s2002.shape"
   ]
  },
  {
   "cell_type": "code",
   "execution_count": 35,
   "id": "d9a0eb1f-afdc-4cb2-95ea-f9c7c6ca446c",
   "metadata": {},
   "outputs": [
    {
     "data": {
      "text/plain": [
       "(597, 52)"
      ]
     },
     "execution_count": 35,
     "metadata": {},
     "output_type": "execute_result"
    }
   ],
   "source": [
    "endpoint=f\"http://openapi.seoul.go.kr:8088/{my_key}/json/CardSubwayTime/1/1000/202003/\"\n",
    "resp=requests.get(endpoint)\n",
    "data=resp.json()\n",
    "s2003=pd.DataFrame(data['CardSubwayTime']['row'])\n",
    "s2003.shape"
   ]
  },
  {
   "cell_type": "code",
   "execution_count": 36,
   "id": "53579bf9-55a0-4d41-8af0-f01ac8a8fb76",
   "metadata": {},
   "outputs": [
    {
     "data": {
      "text/plain": [
       "(599, 52)"
      ]
     },
     "execution_count": 36,
     "metadata": {},
     "output_type": "execute_result"
    }
   ],
   "source": [
    "endpoint=f\"http://openapi.seoul.go.kr:8088/{my_key}/json/CardSubwayTime/1/1000/202004/\"\n",
    "resp=requests.get(endpoint)\n",
    "data=resp.json()\n",
    "s2004=pd.DataFrame(data['CardSubwayTime']['row'])\n",
    "s2004.shape"
   ]
  },
  {
   "cell_type": "code",
   "execution_count": 37,
   "id": "ea3a2e1d-ca0b-4f76-8117-ca30d47a1011",
   "metadata": {},
   "outputs": [
    {
     "data": {
      "text/plain": [
       "(597, 52)"
      ]
     },
     "execution_count": 37,
     "metadata": {},
     "output_type": "execute_result"
    }
   ],
   "source": [
    "endpoint=f\"http://openapi.seoul.go.kr:8088/{my_key}/json/CardSubwayTime/1/1000/202005/\"\n",
    "resp=requests.get(endpoint)\n",
    "data=resp.json()\n",
    "s2005=pd.DataFrame(data['CardSubwayTime']['row'])\n",
    "s2005.shape"
   ]
  },
  {
   "cell_type": "code",
   "execution_count": 38,
   "id": "d07b47de-2a65-4b16-b775-fb6d28fb0401",
   "metadata": {},
   "outputs": [
    {
     "data": {
      "text/plain": [
       "(600, 52)"
      ]
     },
     "execution_count": 38,
     "metadata": {},
     "output_type": "execute_result"
    }
   ],
   "source": [
    "endpoint=f\"http://openapi.seoul.go.kr:8088/{my_key}/json/CardSubwayTime/1/1000/202006/\"\n",
    "resp=requests.get(endpoint)\n",
    "data=resp.json()\n",
    "s2006=pd.DataFrame(data['CardSubwayTime']['row'])\n",
    "s2006.shape"
   ]
  },
  {
   "cell_type": "code",
   "execution_count": 39,
   "id": "b7f5e23b-9e81-4ccb-bbe7-fc065f978949",
   "metadata": {},
   "outputs": [
    {
     "data": {
      "text/plain": [
       "(598, 52)"
      ]
     },
     "execution_count": 39,
     "metadata": {},
     "output_type": "execute_result"
    }
   ],
   "source": [
    "endpoint=f\"http://openapi.seoul.go.kr:8088/{my_key}/json/CardSubwayTime/1/1000/202007/\"\n",
    "resp=requests.get(endpoint)\n",
    "data=resp.json()\n",
    "s2007=pd.DataFrame(data['CardSubwayTime']['row'])\n",
    "s2007.shape"
   ]
  },
  {
   "cell_type": "code",
   "execution_count": 40,
   "id": "efc30768-e29f-427d-8c43-249342dd3903",
   "metadata": {},
   "outputs": [
    {
     "data": {
      "text/plain": [
       "(597, 52)"
      ]
     },
     "execution_count": 40,
     "metadata": {},
     "output_type": "execute_result"
    }
   ],
   "source": [
    "endpoint=f\"http://openapi.seoul.go.kr:8088/{my_key}/json/CardSubwayTime/1/1000/202008/\"\n",
    "resp=requests.get(endpoint)\n",
    "data=resp.json()\n",
    "s2008=pd.DataFrame(data['CardSubwayTime']['row'])\n",
    "s2008.shape"
   ]
  },
  {
   "cell_type": "code",
   "execution_count": 41,
   "id": "dc482415-ccb3-4afd-bfd6-b635535f65aa",
   "metadata": {},
   "outputs": [
    {
     "data": {
      "text/plain": [
       "(603, 52)"
      ]
     },
     "execution_count": 41,
     "metadata": {},
     "output_type": "execute_result"
    }
   ],
   "source": [
    "endpoint=f\"http://openapi.seoul.go.kr:8088/{my_key}/json/CardSubwayTime/1/1000/202009/\"\n",
    "resp=requests.get(endpoint)\n",
    "data=resp.json()\n",
    "s2009=pd.DataFrame(data['CardSubwayTime']['row'])\n",
    "s2009.shape"
   ]
  },
  {
   "cell_type": "code",
   "execution_count": 42,
   "id": "a12d588a-a605-4fa6-9d6a-e285306d1386",
   "metadata": {},
   "outputs": [
    {
     "data": {
      "text/plain": [
       "(605, 52)"
      ]
     },
     "execution_count": 42,
     "metadata": {},
     "output_type": "execute_result"
    }
   ],
   "source": [
    "endpoint=f\"http://openapi.seoul.go.kr:8088/{my_key}/json/CardSubwayTime/1/1000/202010/\"\n",
    "resp=requests.get(endpoint)\n",
    "data=resp.json()\n",
    "s2010=pd.DataFrame(data['CardSubwayTime']['row'])\n",
    "s2010.shape"
   ]
  },
  {
   "cell_type": "code",
   "execution_count": 43,
   "id": "fecf850e-e0b2-42fc-b2ef-dbfa70b5669c",
   "metadata": {},
   "outputs": [
    {
     "data": {
      "text/plain": [
       "(603, 52)"
      ]
     },
     "execution_count": 43,
     "metadata": {},
     "output_type": "execute_result"
    }
   ],
   "source": [
    "endpoint=f\"http://openapi.seoul.go.kr:8088/{my_key}/json/CardSubwayTime/1/1000/202011/\"\n",
    "resp=requests.get(endpoint)\n",
    "data=resp.json()\n",
    "s2011=pd.DataFrame(data['CardSubwayTime']['row'])\n",
    "s2011.shape"
   ]
  },
  {
   "cell_type": "code",
   "execution_count": 44,
   "id": "67df4e29-a376-4174-93d8-43e2dd6c81ab",
   "metadata": {},
   "outputs": [
    {
     "data": {
      "text/plain": [
       "(603, 52)"
      ]
     },
     "execution_count": 44,
     "metadata": {},
     "output_type": "execute_result"
    }
   ],
   "source": [
    "endpoint=f\"http://openapi.seoul.go.kr:8088/{my_key}/json/CardSubwayTime/1/1000/202012/\"\n",
    "resp=requests.get(endpoint)\n",
    "data=resp.json()\n",
    "s2012=pd.DataFrame(data['CardSubwayTime']['row'])\n",
    "s2012.shape"
   ]
  },
  {
   "cell_type": "markdown",
   "id": "fbc82b7e-1d6f-43ba-a416-2924df833226",
   "metadata": {},
   "source": [
    "## 2019년 데이터"
   ]
  },
  {
   "cell_type": "code",
   "execution_count": 45,
   "id": "6b16abb5-8e85-4766-a030-e9479ab1af81",
   "metadata": {},
   "outputs": [
    {
     "data": {
      "text/plain": [
       "(598, 52)"
      ]
     },
     "execution_count": 45,
     "metadata": {},
     "output_type": "execute_result"
    }
   ],
   "source": [
    "endpoint=f\"http://openapi.seoul.go.kr:8088/{my_key}/json/CardSubwayTime/1/1000/201901/\"\n",
    "resp=requests.get(endpoint)\n",
    "data=resp.json()\n",
    "s1901=pd.DataFrame(data['CardSubwayTime']['row'])\n",
    "s1901.shape"
   ]
  },
  {
   "cell_type": "code",
   "execution_count": 46,
   "id": "96691e12-f59b-437f-82d2-6af734899dae",
   "metadata": {},
   "outputs": [
    {
     "data": {
      "text/plain": [
       "(598, 52)"
      ]
     },
     "execution_count": 46,
     "metadata": {},
     "output_type": "execute_result"
    }
   ],
   "source": [
    "endpoint=f\"http://openapi.seoul.go.kr:8088/{my_key}/json/CardSubwayTime/1/1000/201902/\"\n",
    "resp=requests.get(endpoint)\n",
    "data=resp.json()\n",
    "s1902=pd.DataFrame(data['CardSubwayTime']['row'])\n",
    "s1902.shape"
   ]
  },
  {
   "cell_type": "code",
   "execution_count": 47,
   "id": "5c1a82ba-42ac-4fa3-96ae-b5ace6c9317a",
   "metadata": {},
   "outputs": [
    {
     "data": {
      "text/plain": [
       "(598, 52)"
      ]
     },
     "execution_count": 47,
     "metadata": {},
     "output_type": "execute_result"
    }
   ],
   "source": [
    "endpoint=f\"http://openapi.seoul.go.kr:8088/{my_key}/json/CardSubwayTime/1/1000/201903/\"\n",
    "resp=requests.get(endpoint)\n",
    "data=resp.json()\n",
    "s1903=pd.DataFrame(data['CardSubwayTime']['row'])\n",
    "s1903.shape"
   ]
  },
  {
   "cell_type": "code",
   "execution_count": 48,
   "id": "194f5173-cbaf-4eb8-886b-b669cc85b04d",
   "metadata": {},
   "outputs": [
    {
     "data": {
      "text/plain": [
       "(600, 52)"
      ]
     },
     "execution_count": 48,
     "metadata": {},
     "output_type": "execute_result"
    }
   ],
   "source": [
    "endpoint=f\"http://openapi.seoul.go.kr:8088/{my_key}/json/CardSubwayTime/1/1000/201904/\"\n",
    "resp=requests.get(endpoint)\n",
    "data=resp.json()\n",
    "s1904=pd.DataFrame(data['CardSubwayTime']['row'])\n",
    "s1904.shape"
   ]
  },
  {
   "cell_type": "code",
   "execution_count": 49,
   "id": "2f960717-1039-40ec-b3ce-f2adee00d778",
   "metadata": {},
   "outputs": [
    {
     "data": {
      "text/plain": [
       "(597, 52)"
      ]
     },
     "execution_count": 49,
     "metadata": {},
     "output_type": "execute_result"
    }
   ],
   "source": [
    "endpoint=f\"http://openapi.seoul.go.kr:8088/{my_key}/json/CardSubwayTime/1/1000/201905/\"\n",
    "resp=requests.get(endpoint)\n",
    "data=resp.json()\n",
    "s1905=pd.DataFrame(data['CardSubwayTime']['row'])\n",
    "s1905.shape"
   ]
  },
  {
   "cell_type": "code",
   "execution_count": 50,
   "id": "b6042b65-f0cd-4e9a-aaef-e84f864d8db1",
   "metadata": {},
   "outputs": [
    {
     "data": {
      "text/plain": [
       "(596, 52)"
      ]
     },
     "execution_count": 50,
     "metadata": {},
     "output_type": "execute_result"
    }
   ],
   "source": [
    "endpoint=f\"http://openapi.seoul.go.kr:8088/{my_key}/json/CardSubwayTime/1/1000/201906/\"\n",
    "resp=requests.get(endpoint)\n",
    "data=resp.json()\n",
    "s1906=pd.DataFrame(data['CardSubwayTime']['row'])\n",
    "s1906.shape"
   ]
  },
  {
   "cell_type": "code",
   "execution_count": 51,
   "id": "d8b36056-860d-4ab2-bd42-8b097b799af8",
   "metadata": {},
   "outputs": [
    {
     "data": {
      "text/plain": [
       "(597, 52)"
      ]
     },
     "execution_count": 51,
     "metadata": {},
     "output_type": "execute_result"
    }
   ],
   "source": [
    "endpoint=f\"http://openapi.seoul.go.kr:8088/{my_key}/json/CardSubwayTime/1/1000/201907/\"\n",
    "resp=requests.get(endpoint)\n",
    "data=resp.json()\n",
    "s1907=pd.DataFrame(data['CardSubwayTime']['row'])\n",
    "s1907.shape"
   ]
  },
  {
   "cell_type": "code",
   "execution_count": 52,
   "id": "7321b39a-ea8f-444d-a2d6-27b9b9573b4a",
   "metadata": {},
   "outputs": [
    {
     "data": {
      "text/plain": [
       "(598, 52)"
      ]
     },
     "execution_count": 52,
     "metadata": {},
     "output_type": "execute_result"
    }
   ],
   "source": [
    "endpoint=f\"http://openapi.seoul.go.kr:8088/{my_key}/json/CardSubwayTime/1/1000/201908/\"\n",
    "resp=requests.get(endpoint)\n",
    "data=resp.json()\n",
    "s1908=pd.DataFrame(data['CardSubwayTime']['row'])\n",
    "s1908.shape"
   ]
  },
  {
   "cell_type": "code",
   "execution_count": 53,
   "id": "7d71ec56-b05c-4c10-9e9f-fa71862fb658",
   "metadata": {},
   "outputs": [
    {
     "data": {
      "text/plain": [
       "(597, 52)"
      ]
     },
     "execution_count": 53,
     "metadata": {},
     "output_type": "execute_result"
    }
   ],
   "source": [
    "endpoint=f\"http://openapi.seoul.go.kr:8088/{my_key}/json/CardSubwayTime/1/1000/201909/\"\n",
    "resp=requests.get(endpoint)\n",
    "data=resp.json()\n",
    "s1909=pd.DataFrame(data['CardSubwayTime']['row'])\n",
    "s1909.shape"
   ]
  },
  {
   "cell_type": "code",
   "execution_count": 54,
   "id": "17550023-1730-4799-9966-4b87b403770d",
   "metadata": {},
   "outputs": [
    {
     "data": {
      "text/plain": [
       "(598, 52)"
      ]
     },
     "execution_count": 54,
     "metadata": {},
     "output_type": "execute_result"
    }
   ],
   "source": [
    "endpoint=f\"http://openapi.seoul.go.kr:8088/{my_key}/json/CardSubwayTime/1/1000/201910/\"\n",
    "resp=requests.get(endpoint)\n",
    "data=resp.json()\n",
    "s1910=pd.DataFrame(data['CardSubwayTime']['row'])\n",
    "s1910.shape"
   ]
  },
  {
   "cell_type": "code",
   "execution_count": 55,
   "id": "54c14634-dd4f-4e1a-8ee6-e1990b8d627b",
   "metadata": {},
   "outputs": [
    {
     "data": {
      "text/plain": [
       "(597, 52)"
      ]
     },
     "execution_count": 55,
     "metadata": {},
     "output_type": "execute_result"
    }
   ],
   "source": [
    "endpoint=f\"http://openapi.seoul.go.kr:8088/{my_key}/json/CardSubwayTime/1/1000/201911/\"\n",
    "resp=requests.get(endpoint)\n",
    "data=resp.json()\n",
    "s1911=pd.DataFrame(data['CardSubwayTime']['row'])\n",
    "s1911.shape"
   ]
  },
  {
   "cell_type": "code",
   "execution_count": 56,
   "id": "37d24e04-739a-40fc-845e-a14bf7399c4f",
   "metadata": {},
   "outputs": [
    {
     "data": {
      "text/plain": [
       "(597, 52)"
      ]
     },
     "execution_count": 56,
     "metadata": {},
     "output_type": "execute_result"
    }
   ],
   "source": [
    "endpoint=f\"http://openapi.seoul.go.kr:8088/{my_key}/json/CardSubwayTime/1/1000/201912/\"\n",
    "resp=requests.get(endpoint)\n",
    "data=resp.json()\n",
    "s1912=pd.DataFrame(data['CardSubwayTime']['row'])\n",
    "s1912.shape\n"
   ]
  },
  {
   "cell_type": "markdown",
   "id": "4a5bfe54-b2d9-4059-86de-1f1525066c20",
   "metadata": {},
   "source": [
    "## 데이터 합치기"
   ]
  },
  {
   "cell_type": "code",
   "execution_count": 58,
   "id": "bfb91291-3913-41e0-bcef-0a236b2b6644",
   "metadata": {},
   "outputs": [],
   "source": [
    "subway=pd.concat([s1901,s1902,s1903,s1904,s1905,s1906,s1907,s1908,s1909,\n",
    "           s1910,s1911,s1912,s2001,s2002,s2003,s2004,s2005,s2006,s2007,s2008,s2009,s2010,s2011,s2012,s2101,s2102,s2103,s2104,s2105,s2106,s2107,s2108,s2109,s2110,s2111,s2112])"
   ]
  },
  {
   "cell_type": "code",
   "execution_count": 59,
   "id": "176287e3-3a14-412a-9aa3-224be004996d",
   "metadata": {},
   "outputs": [
    {
     "data": {
      "text/plain": [
       "(21654, 52)"
      ]
     },
     "execution_count": 59,
     "metadata": {},
     "output_type": "execute_result"
    }
   ],
   "source": [
    "subway.shape"
   ]
  },
  {
   "cell_type": "markdown",
   "id": "a2f6a914-592a-43a1-ba70-ce663e4abb9f",
   "metadata": {},
   "source": [
    "### 데이터 설명\n",
    "- USE_MON: 사용월\n",
    "- LINE_NUM: 호선명\n",
    "- SUB_STA_NM: 지하철역\n",
    "- num_ride_NUM: 시간별 승차인원\n",
    "    - ex) FOUR_RIDE_NUM: 04-05시 승차인원\n",
    "- num_ALIGHT_NUM: 시간별 하차인원\n",
    "    - ex) FOUR_ALIGHT_NUM: 04-05시 하차인원\n",
    "- WORK_DT: 작업일자\n"
   ]
  },
  {
   "cell_type": "code",
   "execution_count": 61,
   "id": "b5ebadad-c778-41d8-aa05-675698e846c3",
   "metadata": {},
   "outputs": [
    {
     "name": "stdout",
     "output_type": "stream",
     "text": [
      "<class 'pandas.core.frame.DataFrame'>\n",
      "Int64Index: 21654 entries, 0 to 608\n",
      "Data columns (total 52 columns):\n",
      " #   Column                   Non-Null Count  Dtype  \n",
      "---  ------                   --------------  -----  \n",
      " 0   USE_MON                  21654 non-null  object \n",
      " 1   LINE_NUM                 21654 non-null  object \n",
      " 2   SUB_STA_NM               21654 non-null  object \n",
      " 3   FOUR_RIDE_NUM            21654 non-null  float64\n",
      " 4   FOUR_ALIGHT_NUM          21654 non-null  float64\n",
      " 5   FIVE_RIDE_NUM            21654 non-null  float64\n",
      " 6   FIVE_ALIGHT_NUM          21654 non-null  float64\n",
      " 7   SIX_RIDE_NUM             21654 non-null  float64\n",
      " 8   SIX_ALIGHT_NUM           21654 non-null  float64\n",
      " 9   SEVEN_RIDE_NUM           21654 non-null  float64\n",
      " 10  SEVEN_ALIGHT_NUM         21654 non-null  float64\n",
      " 11  EIGHT_RIDE_NUM           21654 non-null  float64\n",
      " 12  EIGHT_ALIGHT_NUM         21654 non-null  float64\n",
      " 13  NINE_RIDE_NUM            21654 non-null  float64\n",
      " 14  NINE_ALIGHT_NUM          21654 non-null  float64\n",
      " 15  TEN_RIDE_NUM             21654 non-null  float64\n",
      " 16  TEN_ALIGHT_NUM           21654 non-null  float64\n",
      " 17  ELEVEN_RIDE_NUM          21654 non-null  float64\n",
      " 18  ELEVEN_ALIGHT_NUM        21654 non-null  float64\n",
      " 19  TWELVE_RIDE_NUM          21654 non-null  float64\n",
      " 20  TWELVE_ALIGHT_NUM        21654 non-null  float64\n",
      " 21  THIRTEEN_RIDE_NUM        21654 non-null  float64\n",
      " 22  THIRTEEN_ALIGHT_NUM      21654 non-null  float64\n",
      " 23  FOURTEEN_RIDE_NUM        21654 non-null  float64\n",
      " 24  FOURTEEN_ALIGHT_NUM      21654 non-null  float64\n",
      " 25  FIFTEEN_RIDE_NUM         21654 non-null  float64\n",
      " 26  FIFTEEN_ALIGHT_NUM       21654 non-null  float64\n",
      " 27  SIXTEEN_RIDE_NUM         21654 non-null  float64\n",
      " 28  SIXTEEN_ALIGHT_NUM       21654 non-null  float64\n",
      " 29  SEVENTEEN_RIDE_NUM       21654 non-null  float64\n",
      " 30  SEVENTEEN_ALIGHT_NUM     21654 non-null  float64\n",
      " 31  EIGHTEEN_RIDE_NUM        21654 non-null  float64\n",
      " 32  EIGHTEEN_ALIGHT_NUM      21654 non-null  float64\n",
      " 33  NINETEEN_RIDE_NUM        21654 non-null  float64\n",
      " 34  NINETEEN_ALIGHT_NUM      21654 non-null  float64\n",
      " 35  TWENTY_RIDE_NUM          21654 non-null  float64\n",
      " 36  TWENTY_ALIGHT_NUM        21654 non-null  float64\n",
      " 37  TWENTY_ONE_RIDE_NUM      21654 non-null  float64\n",
      " 38  TWENTY_ONE_ALIGHT_NUM    21654 non-null  float64\n",
      " 39  TWENTY_TWO_RIDE_NUM      21654 non-null  float64\n",
      " 40  TWENTY_TWO_ALIGHT_NUM    21654 non-null  float64\n",
      " 41  TWENTY_THREE_RIDE_NUM    21654 non-null  float64\n",
      " 42  TWENTY_THREE_ALIGHT_NUM  21654 non-null  float64\n",
      " 43  MIDNIGHT_RIDE_NUM        21654 non-null  float64\n",
      " 44  MIDNIGHT_ALIGHT_NUM      21654 non-null  float64\n",
      " 45  ONE_RIDE_NUM             21654 non-null  float64\n",
      " 46  ONE_ALIGHT_NUM           21654 non-null  float64\n",
      " 47  TWO_RIDE_NUM             21654 non-null  float64\n",
      " 48  TWO_ALIGHT_NUM           21654 non-null  float64\n",
      " 49  THREE_RIDE_NUM           21654 non-null  float64\n",
      " 50  THREE_ALIGHT_NUM         21654 non-null  float64\n",
      " 51  WORK_DT                  21654 non-null  object \n",
      "dtypes: float64(48), object(4)\n",
      "memory usage: 8.8+ MB\n"
     ]
    }
   ],
   "source": [
    "subway.info()"
   ]
  },
  {
   "cell_type": "code",
   "execution_count": null,
   "id": "51802757-fdae-4bc9-911f-fce2236c1d98",
   "metadata": {},
   "outputs": [],
   "source": []
  }
 ],
 "metadata": {
  "kernelspec": {
   "display_name": "Python 3.9 (tensorflow)",
   "language": "python",
   "name": "tensorflow"
  },
  "language_info": {
   "codemirror_mode": {
    "name": "ipython",
    "version": 3
   },
   "file_extension": ".py",
   "mimetype": "text/x-python",
   "name": "python",
   "nbconvert_exporter": "python",
   "pygments_lexer": "ipython3",
   "version": "3.9.12"
  }
 },
 "nbformat": 4,
 "nbformat_minor": 5
}
