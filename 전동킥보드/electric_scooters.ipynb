{
 "cells": [
  {
   "cell_type": "code",
   "execution_count": 1,
   "id": "78bc22ad-407d-4caa-9087-740bc17e870a",
   "metadata": {},
   "outputs": [],
   "source": [
    "# import requests\n",
    "# from pathlib import Path\n",
    "# from zipfile import ZipFile\n",
    "# import geopandas as gpd\n",
    "# import numpy as np\n",
    "# import plotly.graph_objects as go\n",
    "# import json\n",
    "\n",
    "# # get the shape file...\n",
    "# url = \"https://avoidatastr.blob.core.windows.net/avoindata/AvoinData/9_Kartat/PKS%20postinumeroalueet/Shp/PKS_postinumeroalueet_2021_shp.zip\"\n",
    "\n",
    "# fn = Path.cwd().joinpath(url.split(\"/\")[-1])\n",
    "# if not fn.exists():\n",
    "#     r = requests.get(url, stream=True)\n",
    "#     with open(fn, \"wb\") as f:\n",
    "#         for chunk in r.raw.stream(1024, decode_content=False):\n",
    "#             if chunk:\n",
    "#                 f.write(chunk)\n",
    "\n",
    "# zfile = ZipFile(fn)\n",
    "# zfile.extractall()\n",
    "\n",
    "# # open it...\n",
    "# geodf = gpd.read_file(list(Path.cwd().glob(\"PKS*.shp\"))[0])\n",
    "# geodf[\"rand\"] = np.random.randint(1, 100, len(geodf))\n",
    "\n",
    "# # shape file is a different CRS,  change to lon/lat GPS co-ordinates\n",
    "# geodf = geodf.to_crs(\"WGS84\").set_index(\"Posno\")\n",
    "\n",
    "\n",
    "# fig = go.Figure(go.Choroplethmapbox(geojson=json.loads(geodf.to_json()), \n",
    "#                                     locations=geodf.index, z=geodf['rand'],\n",
    "#                                     colorscale=\"Viridis\", marker_line_width=.5))\n",
    "\n",
    "# fig.update_layout(mapbox_style=\"open-street-map\",\n",
    "#                         height = 1000,\n",
    "#                         autosize=True,\n",
    "#                         margin={\"r\":0,\"t\":0,\"l\":0,\"b\":0},\n",
    "#                         paper_bgcolor='#303030',\n",
    "#                         plot_bgcolor='#303030',\n",
    "#                         mapbox=dict(center=dict(lat=60.1699, lon=24.9384),zoom=9),\n",
    "#                         )"
   ]
  },
  {
   "cell_type": "code",
   "execution_count": 2,
   "id": "f711e518-9c20-4343-930e-821dc4485442",
   "metadata": {},
   "outputs": [],
   "source": [
    "import pandas as pd\n",
    "import numpy as np\n",
    "import requests\n",
    "from tqdm.auto import tqdm, trange"
   ]
  },
  {
   "cell_type": "code",
   "execution_count": 3,
   "id": "ff436c7c-802f-4fe3-aed4-c4b82bcb1216",
   "metadata": {},
   "outputs": [
    {
     "data": {
      "text/html": [
       "<div>\n",
       "<style scoped>\n",
       "    .dataframe tbody tr th:only-of-type {\n",
       "        vertical-align: middle;\n",
       "    }\n",
       "\n",
       "    .dataframe tbody tr th {\n",
       "        vertical-align: top;\n",
       "    }\n",
       "\n",
       "    .dataframe thead th {\n",
       "        text-align: right;\n",
       "    }\n",
       "</style>\n",
       "<table border=\"1\" class=\"dataframe\">\n",
       "  <thead>\n",
       "    <tr style=\"text-align: right;\">\n",
       "      <th></th>\n",
       "      <th>신고일</th>\n",
       "      <th>구정보</th>\n",
       "      <th>주소</th>\n",
       "      <th>유형</th>\n",
       "      <th>조치일</th>\n",
       "    </tr>\n",
       "    <tr>\n",
       "      <th>번호</th>\n",
       "      <th></th>\n",
       "      <th></th>\n",
       "      <th></th>\n",
       "      <th></th>\n",
       "      <th></th>\n",
       "    </tr>\n",
       "  </thead>\n",
       "  <tbody>\n",
       "    <tr>\n",
       "      <th>1</th>\n",
       "      <td>2021-07-15</td>\n",
       "      <td>동작구</td>\n",
       "      <td>서울특별시 동작구 상도동 215-45</td>\n",
       "      <td>점자블록, 엘리베이터 입구</td>\n",
       "      <td>2021-07-15</td>\n",
       "    </tr>\n",
       "    <tr>\n",
       "      <th>2</th>\n",
       "      <td>2021-07-15</td>\n",
       "      <td>동작구</td>\n",
       "      <td>서울특별시 동작구 상도동 172-28</td>\n",
       "      <td>보도 중앙</td>\n",
       "      <td>2021-07-15</td>\n",
       "    </tr>\n",
       "    <tr>\n",
       "      <th>3</th>\n",
       "      <td>2021-07-15</td>\n",
       "      <td>동작구</td>\n",
       "      <td>서울특별시 동작구 대방동 356-2</td>\n",
       "      <td>버스정류장, 택시 승강장</td>\n",
       "      <td>2021-07-15</td>\n",
       "    </tr>\n",
       "    <tr>\n",
       "      <th>4</th>\n",
       "      <td>2021-07-15</td>\n",
       "      <td>동작구</td>\n",
       "      <td>서울특별시 동작구 대방동 354-1</td>\n",
       "      <td>버스정류장, 택시 승강장</td>\n",
       "      <td>2021-07-15</td>\n",
       "    </tr>\n",
       "    <tr>\n",
       "      <th>5</th>\n",
       "      <td>2021-07-15</td>\n",
       "      <td>동작구</td>\n",
       "      <td>서울특별시 동작구 신대방동 460-30</td>\n",
       "      <td>보도와 차도가 구분된 도로의 차도</td>\n",
       "      <td>2021-07-15</td>\n",
       "    </tr>\n",
       "    <tr>\n",
       "      <th>...</th>\n",
       "      <td>...</td>\n",
       "      <td>...</td>\n",
       "      <td>...</td>\n",
       "      <td>...</td>\n",
       "      <td>...</td>\n",
       "    </tr>\n",
       "    <tr>\n",
       "      <th>60601</th>\n",
       "      <td>2022-07-29</td>\n",
       "      <td>동작구</td>\n",
       "      <td>서울특별시 동작구 사당동 708-1025</td>\n",
       "      <td>보도와 차도가 구분된 도로의 차도</td>\n",
       "      <td>2022-07-29</td>\n",
       "    </tr>\n",
       "    <tr>\n",
       "      <th>60602</th>\n",
       "      <td>2022-07-29</td>\n",
       "      <td>관악구</td>\n",
       "      <td>서울특별시 관악구 봉천동 1693-55</td>\n",
       "      <td>보도와 차도가 구분된 도로의 차도</td>\n",
       "      <td>2022-07-29</td>\n",
       "    </tr>\n",
       "    <tr>\n",
       "      <th>60603</th>\n",
       "      <td>2022-07-29</td>\n",
       "      <td>동작구</td>\n",
       "      <td>서울특별시 동작구 사당동 175-56</td>\n",
       "      <td>보도와 차도가 구분된 도로의 차도</td>\n",
       "      <td>2022-07-29</td>\n",
       "    </tr>\n",
       "    <tr>\n",
       "      <th>60604</th>\n",
       "      <td>2022-07-29</td>\n",
       "      <td>동작구</td>\n",
       "      <td>서울특별시 동작구 사당동 175-26</td>\n",
       "      <td>보도와 차도가 구분된 도로의 차도</td>\n",
       "      <td>2022-07-29</td>\n",
       "    </tr>\n",
       "    <tr>\n",
       "      <th>60605</th>\n",
       "      <td>2022-07-29</td>\n",
       "      <td>중랑구</td>\n",
       "      <td>서울특별시 중랑구 면목동 197-10</td>\n",
       "      <td>보도와 차도가 구분된 도로의 차도</td>\n",
       "      <td>2022-07-29</td>\n",
       "    </tr>\n",
       "  </tbody>\n",
       "</table>\n",
       "<p>60605 rows × 5 columns</p>\n",
       "</div>"
      ],
      "text/plain": [
       "              신고일  구정보                      주소                  유형         조치일\n",
       "번호                                                                            \n",
       "1      2021-07-15  동작구    서울특별시 동작구 상도동 215-45      점자블록, 엘리베이터 입구  2021-07-15\n",
       "2      2021-07-15  동작구    서울특별시 동작구 상도동 172-28               보도 중앙  2021-07-15\n",
       "3      2021-07-15  동작구     서울특별시 동작구 대방동 356-2       버스정류장, 택시 승강장  2021-07-15\n",
       "4      2021-07-15  동작구     서울특별시 동작구 대방동 354-1       버스정류장, 택시 승강장  2021-07-15\n",
       "5      2021-07-15  동작구   서울특별시 동작구 신대방동 460-30  보도와 차도가 구분된 도로의 차도  2021-07-15\n",
       "...           ...  ...                     ...                 ...         ...\n",
       "60601  2022-07-29  동작구  서울특별시 동작구 사당동 708-1025  보도와 차도가 구분된 도로의 차도  2022-07-29\n",
       "60602  2022-07-29  관악구   서울특별시 관악구 봉천동 1693-55  보도와 차도가 구분된 도로의 차도  2022-07-29\n",
       "60603  2022-07-29  동작구    서울특별시 동작구 사당동 175-56  보도와 차도가 구분된 도로의 차도  2022-07-29\n",
       "60604  2022-07-29  동작구    서울특별시 동작구 사당동 175-26  보도와 차도가 구분된 도로의 차도  2022-07-29\n",
       "60605  2022-07-29  중랑구    서울특별시 중랑구 면목동 197-10  보도와 차도가 구분된 도로의 차도  2022-07-29\n",
       "\n",
       "[60605 rows x 5 columns]"
      ]
     },
     "execution_count": 3,
     "metadata": {},
     "output_type": "execute_result"
    }
   ],
   "source": [
    "df_raw = pd.read_csv(\"서울특별시_전동킥보드_견인_현황_20220731.csv\", encoding=\"cp949\", index_col=0)\n",
    "df_raw"
   ]
  },
  {
   "cell_type": "code",
   "execution_count": 4,
   "id": "6a29108a-3b40-49dc-86f8-fd661d96823c",
   "metadata": {},
   "outputs": [
    {
     "name": "stdout",
     "output_type": "stream",
     "text": [
      "<class 'pandas.core.frame.DataFrame'>\n",
      "Int64Index: 60605 entries, 1 to 60605\n",
      "Data columns (total 5 columns):\n",
      " #   Column  Non-Null Count  Dtype \n",
      "---  ------  --------------  ----- \n",
      " 0   신고일     60605 non-null  object\n",
      " 1   구정보     60605 non-null  object\n",
      " 2   주소      60605 non-null  object\n",
      " 3   유형      60604 non-null  object\n",
      " 4   조치일     60604 non-null  object\n",
      "dtypes: object(5)\n",
      "memory usage: 2.8+ MB\n"
     ]
    }
   ],
   "source": [
    "df_raw.info()"
   ]
  },
  {
   "cell_type": "code",
   "execution_count": 5,
   "id": "85563c11-0c38-44e0-8524-9ae877a815ed",
   "metadata": {},
   "outputs": [],
   "source": [
    "df_raw['날짜'] = pd.to_datetime(df_raw['신고일'])"
   ]
  },
  {
   "cell_type": "code",
   "execution_count": 6,
   "id": "6a5ab253-53ee-40ea-9d9a-ca46d546ad1c",
   "metadata": {},
   "outputs": [],
   "source": [
    "df = df_raw[['날짜', '주소']]"
   ]
  },
  {
   "cell_type": "code",
   "execution_count": 7,
   "id": "6a33bd84-014d-4edd-953b-3a7bdbff10cf",
   "metadata": {},
   "outputs": [
    {
     "name": "stderr",
     "output_type": "stream",
     "text": [
      "/var/folders/3m/knb96f9s4xg2t2gcrl96r6jh0000gn/T/ipykernel_15462/3973990059.py:4: SettingWithCopyWarning: \n",
      "A value is trying to be set on a copy of a slice from a DataFrame.\n",
      "Try using .loc[row_indexer,col_indexer] = value instead\n",
      "\n",
      "See the caveats in the documentation: https://pandas.pydata.org/pandas-docs/stable/user_guide/indexing.html#returning-a-view-versus-a-copy\n",
      "  df['주말여부'] = df['주말여부'].apply(lambda x: '주말' if x==True else '평일')\n"
     ]
    }
   ],
   "source": [
    "# 날짜로부터 월, 주말 여부 컬럼 생성\n",
    "df.insert(1, '월', df['날짜'].dt.month)\n",
    "df.insert(2, \"주말여부\", df['날짜'].dt.dayofweek > 4)\n",
    "df['주말여부'] = df['주말여부'].apply(lambda x: '주말' if x==True else '평일')"
   ]
  },
  {
   "cell_type": "code",
   "execution_count": 8,
   "id": "40774c5b-6790-439e-abc5-0e5320ac7da2",
   "metadata": {},
   "outputs": [
    {
     "data": {
      "text/plain": [
       "번호\n",
       "1          서울특별시 동작구 상도동 215-45\n",
       "2          서울특별시 동작구 상도동 172-28\n",
       "3           서울특별시 동작구 대방동 356-2\n",
       "4           서울특별시 동작구 대방동 354-1\n",
       "5         서울특별시 동작구 신대방동 460-30\n",
       "                  ...          \n",
       "60601    서울특별시 동작구 사당동 708-1025\n",
       "60602     서울특별시 관악구 봉천동 1693-55\n",
       "60603      서울특별시 동작구 사당동 175-56\n",
       "60604      서울특별시 동작구 사당동 175-26\n",
       "60605      서울특별시 중랑구 면목동 197-10\n",
       "Name: 주소, Length: 60605, dtype: object"
      ]
     },
     "execution_count": 8,
     "metadata": {},
     "output_type": "execute_result"
    }
   ],
   "source": [
    "addrs = df['주소']\n",
    "addrs"
   ]
  },
  {
   "cell_type": "code",
   "execution_count": 9,
   "id": "6f2eccec-4f3c-4702-9be8-20a513048cb0",
   "metadata": {},
   "outputs": [
    {
     "data": {
      "application/vnd.jupyter.widget-view+json": {
       "model_id": "229e5285b67b48aa8b90b8ea446f72a9",
       "version_major": 2,
       "version_minor": 0
      },
      "text/plain": [
       "  0%|          | 0/60605 [00:00<?, ?it/s]"
      ]
     },
     "metadata": {},
     "output_type": "display_data"
    }
   ],
   "source": [
    "locations = []\n",
    "for addr in tqdm(addrs):\n",
    "    url = 'https://dapi.kakao.com/v2/local/search/address.json?query={}'.format(addr)\n",
    "    headers = {\n",
    "    ## 여러분의 카카오 API의 REST API키를 아래 예시와 같이 입력해주세요\n",
    "    ## \"Authorization\": \"KakaoAK REST API키 입력 gogo\"}\n",
    "    \"Authorization\": \"KakaoAK df5989bfdeb66e539382f8c9a0275d74\"}\n",
    "    place = requests.get(url, headers = headers).json()['documents']\n",
    "    locations.append(place)\n",
    "    \n",
    "    #d73f478209140e5db9caeb3ccca66181"
   ]
  },
  {
   "cell_type": "code",
   "execution_count": 10,
   "id": "caea2cb2-e962-4f87-9dce-f89eb734e5e2",
   "metadata": {},
   "outputs": [
    {
     "data": {
      "text/plain": [
       "60605"
      ]
     },
     "execution_count": 10,
     "metadata": {},
     "output_type": "execute_result"
    }
   ],
   "source": [
    "len(locations)"
   ]
  },
  {
   "cell_type": "code",
   "execution_count": 11,
   "id": "c675397a-9aed-44af-b5f9-1cb8244ac7f9",
   "metadata": {},
   "outputs": [
    {
     "data": {
      "text/plain": [
       "Int64Index([    1,     2,     3,     4,     5,     6,     7,     8,     9,\n",
       "               10,\n",
       "            ...\n",
       "            60596, 60597, 60598, 60599, 60600, 60601, 60602, 60603, 60604,\n",
       "            60605],\n",
       "           dtype='int64', name='번호', length=60605)"
      ]
     },
     "execution_count": 11,
     "metadata": {},
     "output_type": "execute_result"
    }
   ],
   "source": [
    "df.index"
   ]
  },
  {
   "cell_type": "code",
   "execution_count": null,
   "id": "7e64ebc7-6d24-4288-93b3-792d509d089d",
   "metadata": {},
   "outputs": [],
   "source": [
    "for i in df.index:\n",
    "    try:\n",
    "        df.loc[i, 'x']= locations[i][0]['address']['x']\n",
    "        df.loc[i, 'y']= locations[i][0]['address']['y']\n",
    "        df.loc[i, '행정구']= locations[i][0]['address']['region_2depth_name']\n",
    "        df.loc[i, '행정동']= locations[i][0]['address']['region_3depth_h_name']\n",
    "    except:\n",
    "        error_list.append(i)"
   ]
  },
  {
   "cell_type": "code",
   "execution_count": null,
   "id": "c21ff9ef-57bc-4c7f-a4d3-5816f80619d1",
   "metadata": {},
   "outputs": [],
   "source": []
  }
 ],
 "metadata": {
  "kernelspec": {
   "display_name": "Python 3.9 (tensorflow)",
   "language": "python",
   "name": "tensorflow"
  },
  "language_info": {
   "codemirror_mode": {
    "name": "ipython",
    "version": 3
   },
   "file_extension": ".py",
   "mimetype": "text/x-python",
   "name": "python",
   "nbconvert_exporter": "python",
   "pygments_lexer": "ipython3",
   "version": "3.9.12"
  }
 },
 "nbformat": 4,
 "nbformat_minor": 5
}
