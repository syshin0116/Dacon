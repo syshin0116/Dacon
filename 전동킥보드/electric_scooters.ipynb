{
 "cells": [
  {
   "cell_type": "code",
   "execution_count": null,
   "id": "78bc22ad-407d-4caa-9087-740bc17e870a",
   "metadata": {},
   "outputs": [],
   "source": [
    "import requests\n",
    "from pathlib import Path\n",
    "from zipfile import ZipFile\n",
    "import geopandas as gpd\n",
    "import numpy as np\n",
    "import plotly.graph_objects as go\n",
    "import json\n",
    "\n",
    "# get the shape file...\n",
    "url = \"https://avoidatastr.blob.core.windows.net/avoindata/AvoinData/9_Kartat/PKS%20postinumeroalueet/Shp/PKS_postinumeroalueet_2021_shp.zip\"\n",
    "\n",
    "fn = Path.cwd().joinpath(url.split(\"/\")[-1])\n",
    "if not fn.exists():\n",
    "    r = requests.get(url, stream=True)\n",
    "    with open(fn, \"wb\") as f:\n",
    "        for chunk in r.raw.stream(1024, decode_content=False):\n",
    "            if chunk:\n",
    "                f.write(chunk)\n",
    "\n",
    "zfile = ZipFile(fn)\n",
    "zfile.extractall()\n",
    "\n",
    "# open it...\n",
    "geodf = gpd.read_file(list(Path.cwd().glob(\"PKS*.shp\"))[0])\n",
    "geodf[\"rand\"] = np.random.randint(1, 100, len(geodf))\n",
    "\n",
    "# shape file is a different CRS,  change to lon/lat GPS co-ordinates\n",
    "geodf = geodf.to_crs(\"WGS84\").set_index(\"Posno\")\n",
    "\n",
    "\n",
    "fig = go.Figure(go.Choroplethmapbox(geojson=json.loads(geodf.to_json()), \n",
    "                                    locations=geodf.index, z=geodf['rand'],\n",
    "                                    colorscale=\"Viridis\", marker_line_width=.5))\n",
    "\n",
    "fig.update_layout(mapbox_style=\"open-street-map\",\n",
    "                        height = 1000,\n",
    "                        autosize=True,\n",
    "                        margin={\"r\":0,\"t\":0,\"l\":0,\"b\":0},\n",
    "                        paper_bgcolor='#303030',\n",
    "                        plot_bgcolor='#303030',\n",
    "                        mapbox=dict(center=dict(lat=60.1699, lon=24.9384),zoom=9),\n",
    "                        )"
   ]
  }
 ],
 "metadata": {
  "kernelspec": {
   "display_name": "Python 3.9 (tensorflow)",
   "language": "python",
   "name": "tensorflow"
  },
  "language_info": {
   "codemirror_mode": {
    "name": "ipython",
    "version": 3
   },
   "file_extension": ".py",
   "mimetype": "text/x-python",
   "name": "python",
   "nbconvert_exporter": "python",
   "pygments_lexer": "ipython3",
   "version": "3.9.12"
  }
 },
 "nbformat": 4,
 "nbformat_minor": 5
}
